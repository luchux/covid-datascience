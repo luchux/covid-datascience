{
 "cells": [
  {
   "cell_type": "code",
   "execution_count": 44,
   "metadata": {},
   "outputs": [],
   "source": [
    "import requests\n",
    "from bs4 import BeautifulSoup\n",
    "import pandas as pd"
   ]
  },
  {
   "cell_type": "code",
   "execution_count": 8,
   "metadata": {},
   "outputs": [],
   "source": [
    "r = requests.get('https://en.wikipedia.org/wiki/COVID-19_testing')\n",
    "soup = BeautifulSoup(r.content, 'html.parser')"
   ]
  },
  {
   "cell_type": "code",
   "execution_count": 64,
   "metadata": {},
   "outputs": [],
   "source": [
    "table = soup.find(\"table\", class_=\"covid19-testing\")"
   ]
  },
  {
   "cell_type": "code",
   "execution_count": 65,
   "metadata": {},
   "outputs": [],
   "source": [
    "tr = table.tbody.find_all('tr')\n",
    "rows = [each.text.split('\\n\\n') for each in tr]\n"
   ]
  },
  {
   "cell_type": "code",
   "execution_count": 66,
   "metadata": {},
   "outputs": [],
   "source": [
    "#cleaning \\n and spaces at the beginning and end of the row cells\n",
    "rows = [[word.strip() for word in elem] for elem in rows]"
   ]
  },
  {
   "cell_type": "code",
   "execution_count": 67,
   "metadata": {},
   "outputs": [
    {
     "data": {
      "text/plain": [
       "[['Country or region',\n",
       "  'Tests',\n",
       "  'Positive',\n",
       "  'As of',\n",
       "  'Tests\\u2009/millionpeople',\n",
       "  'Positive\\u2009/thousandtests',\n",
       "  'Ref.'],\n",
       " ['Argentina', '7385', '1265', '3 Apr', '164', '171', '[74]'],\n",
       " ['Armenia', '3,603', '663', '2 Apr', '1,221', '74', '[75]'],\n",
       " ['Australia', '277,355', '5,358', '3 Apr', '10,919', '19', '[76]'],\n",
       " ['Austria', '98,343', '11,350', '3 Apr', '11,047', '101', '[77]'],\n",
       " ['Azerbaijan', '30,000', '443', '3 Apr', '3,031', '15', '[78]'],\n",
       " ['Bahrain', '37,996', '668', '3 Apr', '24,210', '18', '[79]'],\n",
       " ['Bangladesh', '1602', '54', '1 Apr', '10', '34', '[80]'],\n",
       " ['Barbados', '382', '45', '1 Apr', '1,331', '118', '[81]'],\n",
       " ['Belarus', '32,000', '362', '3 Apr', '3,371', '11', '[82]'],\n",
       " ['Belgium', '18,360', '1,486', '18 Mar', '1,594', '81', '[83][84]'],\n",
       " ['Bolivia', '591', '97', '19 Mar', '52', '164', '[85]'],\n",
       " ['Bosnia and Herzegovina',\n",
       "  '4,696',\n",
       "  '611',\n",
       "  '3 Apr',\n",
       "  '1,407',\n",
       "  '130',\n",
       "  '[86][87]'],\n",
       " ['Brazil', '54,824', '7,910', '2 Apr', '261', '144', '[88]'],\n",
       " ['Canada', '280,550', '11,283', '2 Apr', '7,403', '40', '[89]'],\n",
       " ['Canada:  AB', '57,096', '968', '2 Apr', '12,938', '17', '[90]'],\n",
       " ['Canada:  BC', '45,966', '1121', '2 Apr', '8,994', '24', '[91]'],\n",
       " ['Canada:  MB', '11,327', '152', '2 Apr', '8,223', '13.4', '[92]'],\n",
       " ['Canada:  NB', '4,520', '91', '2 Apr', '5,795', '20', '[93]'],\n",
       " ['Canada:  NL', '2,333', '135', '30 Mar', '4,475', '63', '[94]'],\n",
       " ['Canada:  NT', '833', '1', '30 Mar', '18,551', '1.2', '[95]'],\n",
       " ['Canada:  NS', '5,172', '127', '30 Mar', '5,291', '25', '[96]'],\n",
       " ['Canada:  ON', '57,874', '2,392', '1 Apr', '3,934', '41', '[97]'],\n",
       " ['Canada:  PE', '608', '18', '30 Mar', '3,844', '30', '[98]'],\n",
       " ['Canada:  QC', '83,570', '6,101', '3 Apr', '9,788', '73', '[99]'],\n",
       " ['Canada:  SK', '10,528', '193', '1 Apr', '8,909', '18', '[100]'],\n",
       " ['Canada:  YT', '598', '5', '30 Mar', '14,558', '8', '[101]'],\n",
       " ['Chile', '35,142', '2,738', '31 Mar', '1,843', '78', '[102]'],\n",
       " ['China:  Guangdong', '320,000', '', '20 Feb', '2,820', '1.4', '[103]'],\n",
       " ['Colombia', '21,202', '1,267', '3 Apr', '439', '60', '[104]'],\n",
       " ['Costa Rica', '3,845', '347', '31 Mar', '769', '90', '[105]'],\n",
       " ['Croatia', '8,352', '1,011', '2 Apr', '2,049', '121', '[106]'],\n",
       " ['Czechia', '67,281', '3,858', '2 Apr', '6,318', '57', '[107]'],\n",
       " ['Denmark', '40,863', '3,946', '3 Apr', '6,892', '97', '[108]'],\n",
       " ['Ecuador', '10,317', '3,368', '3 Apr', '562', '329', '[109]'],\n",
       " ['Egypt', '25,000', '865', '25 Mar', '250', '35', '[110]'],\n",
       " ['Estonia', '15,725', '858', '2 Apr', '11,838', '55', '[111]'],\n",
       " ['Finland', '26,500', '1,615', '3 Apr', '4,790', '61', '[112][113]'],\n",
       " ['France', '224,254', '54,627', '2 Apr', '3,346', '244', '[114]'],\n",
       " ['Germany', '918,460', '64,906', '29 Mar', '11,046', '71', '[46]'],\n",
       " ['Greece', '15,961', '1,212', '30 Mar', '1,482', '76', '[115]'],\n",
       " ['Grenada', '18', '0', '19 Mar', '162', '0', '[116]'],\n",
       " ['Hong Kong', '90,000', '682', '30 Mar', '12,028', '8', '[117]'],\n",
       " ['Hungary', '17,769', '623', '3 Apr', '1,818', '35', '[118]'],\n",
       " ['Iceland', '22,195', '1,364', '3 Apr', '60,932', '61', '[119]'],\n",
       " ['India', '8,345', '2,183', '3 Apr', '49', '262', '[120]'],\n",
       " ['Indonesia', '7,193', '1,790', '2 Apr', '27', '249', '[121]'],\n",
       " ['Iran', '80,000', '21,638', '22 Mar', '962', '270', '[122]'],\n",
       " ['Ireland', '30,213', '3,235', '30 Mar', '6,345', '107', '[123]'],\n",
       " ['Israel', '90,394', '6,901', '2 Apr', '9,852', '76', '[124]'],\n",
       " ['Italy', '619,849', '119,827', '3 Apr', '10,276', '193', '[125]'],\n",
       " ['Italy:  Emilia-Romagna',\n",
       "  '63,682',\n",
       "  '15,932',\n",
       "  '3 Apr',\n",
       "  '14,280',\n",
       "  '250',\n",
       "  '[125]'],\n",
       " ['Italy:  Liguria', '12,934', '3,965', '3 Apr', '8,341', '307', '[125]'],\n",
       " ['Italy:  Lombardy', '135,051', '47,520', '3 Apr', '13,424', '352', '[125]'],\n",
       " ['Italy:  Marche', '13,678', '4,230', '3 Apr', '8,968', '309', '[125]'],\n",
       " ['Italy:  Piedmont', '34,281', '10,896', '3 Apr', '7,869', '318', '[125]'],\n",
       " ['Italy:  Tuscany', '44,460', '5,499', '3 Apr', '11,921', '124', '[125]'],\n",
       " ['Italy:  Veneto', '126,490', '10,464', '3 Apr', '25,783', '83', '[125]'],\n",
       " ['Jamaica', '442', '44', '1 Apr', '162', '100', '[126]'],\n",
       " ['Japan', '39,446', '2,617', '3 Apr', '313', '66', '[127]'],\n",
       " ['Japan:  Tokyo', '4,104', '684', '2 Apr', '295', '167', '[128]'],\n",
       " ['Kazakhstan', '5,093', '', '13 Mar', '276', '', '[129][130]'],\n",
       " ['Kosovo', '1605', '132', '3 Apr', '887', '82', '[131]'],\n",
       " ['Kyrgyzstan', '8,186', '107', '31 Mar', '1,281', '13', '[132][133]'],\n",
       " ['Latvia', '18,198', '493', '3 Apr', '9,478', '27', '[134]'],\n",
       " ['Lithuania', '18,432', '696', '3 Apr', '6,596', '38', '[135]'],\n",
       " ['Malaysia', '47,723', '3,333', '3 Apr', '1,456', '70', '[136]'],\n",
       " ['Malta', '4,462', '139', '27 Mar', '9,040', '31', '[137]'],\n",
       " ['Mexico', '9,481', '1,049', '28 Mar', '75', '111', '[138]'],\n",
       " ['Montenegro', '1193', '174', '3 Apr', '1,632', '136', '[139]'],\n",
       " ['Nepal', '1185', '6', '2 Apr', '42', '5', '[140]'],\n",
       " ['Netherlands', '46,810', '7,705', '26 Mar', '2,686', '165', '[141]'],\n",
       " ['New Zealand', '29,485', '772', '3 Apr', '5,930', '26', '[142]'],\n",
       " ['North Macedonia', '4,506', '430', '3 Apr', '2,169', '95', '[143]'],\n",
       " ['Norway', '101,986', '5,208', '3 Apr', '19,000', '51', '[144]'],\n",
       " ['Pakistan', '30,308', '2,450', '3 Apr', '143', '166', '[145]'],\n",
       " ['Palestine', '2,519', '', '16 Mar', '499', '', '[146]'],\n",
       " ['Panama', '7,333', '1,317', '1 Apr', '1,756', '180', '[147]'],\n",
       " ['Peru', '12,669', '852', '27 Mar', '386', '67', '[148]'],\n",
       " ['Philippines', '5,265', '3,018', '3 Apr', '52', '573', '[149]'],\n",
       " ['Poland', '66,938', '3,149', '3 Apr', '1,744', '47', '[150]'],\n",
       " ['Portugal', '52,086', '7,443', '31 Mar', '5,068', '143', '[151]'],\n",
       " ['Romania', '31657', '3183', '3 Apr', '1,632', '101', '[152]'],\n",
       " ['Russia', '575,000', '4,149', '3 Apr', '3,918', '7.2', '[153][154]'],\n",
       " ['Scotland', '19,535', '3,001', '3 Apr', '3,592', '176', '[155]'],\n",
       " ['Serbia', '5,008', '1,171', '2 Apr', '719', '234', '[156]'],\n",
       " ['Singapore', '39,000', '558', '25 Mar', '6,838', '14', '[157]'],\n",
       " ['Slovakia', '11,742', '450', '3 Apr', '2,154', '38', '[158]'],\n",
       " ['Slovenia', '24,857', '911', '1 Apr', '11,870', '37', '[159]'],\n",
       " ['South Africa', '44,292', '1,380', '1 Apr', '754', '31', '[160]'],\n",
       " ['South Korea', '443,273', '10,062', '3 Apr', '8,572', '23', '[161]'],\n",
       " ['Spain', '355,000', '24,926', '21 Mar', '7,596', '70', '[162][163]'],\n",
       " ['Sweden', '36,900', '4,435', '31 Mar', '4,306', '120', '[164]'],\n",
       " ['Switzerland', '139,330', '18,267', '2 Apr', '16,258', '131', '[165]'],\n",
       " ['Taiwan', '34,557', '348', '3 Apr', '1,453', '10', '[166]'],\n",
       " ['Thailand', '17,829', '1,524', '30 Mar', '257', '85', '[167]'],\n",
       " ['Trinidad and Tobago', '595', '90', '1 Apr', '436', '151', '[168]'],\n",
       " ['Turkey', '141,716', '20,921', '3 Apr', '1,704', '148', '[169]'],\n",
       " ['Ukraine', '4,404', '942', '3 Apr', '105', '214', '[170]'],\n",
       " ['United Arab Emirates',\n",
       "  '220,000',\n",
       "  '1024',\n",
       "  '3 Apr',\n",
       "  '22,918',\n",
       "  '4.7',\n",
       "  '[171][172]'],\n",
       " ['United Kingdom', '173,784', '38,168', '3 Apr', '2,573', '220', '[173]'],\n",
       " ['United States (unofficial)',\n",
       "  '1,469,251',\n",
       "  '271,915',\n",
       "  '3 Apr',\n",
       "  '4,476',\n",
       "  '185',\n",
       "  '[174]'],\n",
       " ['United States:  CA', '92,500*', '9,191', '2 Apr', '2,341', '99', '[175]'],\n",
       " ['United States:  FL', '91,722', '9,585', '3 Apr', '4,271', '105', '[176]'],\n",
       " ['United States:  IL', '48,048', '8,904', '3 Apr', '3,792', '185', '[177]'],\n",
       " ['United States:  LA', '53,645', '10,297', '3 Apr', '11,512', '192', '[178]'],\n",
       " ['United States:  NY',\n",
       "  '260,520',\n",
       "  '102,863',\n",
       "  '3 Apr',\n",
       "  '13,392',\n",
       "  '395',\n",
       "  '[179]'],\n",
       " ['United States:  NJ', '67,503', '29,895', '3 Apr', '7,600', '443', '[180]'],\n",
       " ['United States:  MI', '31,177', '10,791', '2 Apr', '3,305', '326', '[181]'],\n",
       " ['United States:  TX', '55,764', '5,330', '3 Apr', '1,923', '96', '[182]'],\n",
       " ['United States:  WA', '79,418', '6,585', '1 Apr', '10,429', '86', '[183]'],\n",
       " ['Uruguay', '1,538', '189', '24 Mar', '443', '123', '[184]'],\n",
       " ['Venezuela', '1,779', '143', '31 Mar', '62', '80', '[185][186]'],\n",
       " ['Vietnam', '73,164', '233', '3 Apr', '760', '3.2', '[187]']]"
      ]
     },
     "execution_count": 67,
     "metadata": {},
     "output_type": "execute_result"
    }
   ],
   "source": [
    "rows"
   ]
  },
  {
   "cell_type": "code",
   "execution_count": 78,
   "metadata": {},
   "outputs": [],
   "source": [
    "#headers = rows[0]\n",
    "headers = ['country', 'tests', 'positive', 'date', 'testpermillion', 'positiveperthousand', 'ref']\n",
    "data = rows[1:]"
   ]
  },
  {
   "cell_type": "code",
   "execution_count": 79,
   "metadata": {},
   "outputs": [],
   "source": [
    "tests_df = pd.DataFrame(data, columns=headers)"
   ]
  },
  {
   "cell_type": "code",
   "execution_count": 80,
   "metadata": {},
   "outputs": [
    {
     "data": {
      "text/html": [
       "<div>\n",
       "<style scoped>\n",
       "    .dataframe tbody tr th:only-of-type {\n",
       "        vertical-align: middle;\n",
       "    }\n",
       "\n",
       "    .dataframe tbody tr th {\n",
       "        vertical-align: top;\n",
       "    }\n",
       "\n",
       "    .dataframe thead th {\n",
       "        text-align: right;\n",
       "    }\n",
       "</style>\n",
       "<table border=\"1\" class=\"dataframe\">\n",
       "  <thead>\n",
       "    <tr style=\"text-align: right;\">\n",
       "      <th></th>\n",
       "      <th>country</th>\n",
       "      <th>tests</th>\n",
       "      <th>positive</th>\n",
       "      <th>date</th>\n",
       "      <th>testpermillion</th>\n",
       "      <th>positiveperthousand</th>\n",
       "      <th>ref</th>\n",
       "    </tr>\n",
       "  </thead>\n",
       "  <tbody>\n",
       "    <tr>\n",
       "      <th>0</th>\n",
       "      <td>Argentina</td>\n",
       "      <td>7385</td>\n",
       "      <td>1265</td>\n",
       "      <td>3 Apr</td>\n",
       "      <td>164</td>\n",
       "      <td>171</td>\n",
       "      <td>[74]</td>\n",
       "    </tr>\n",
       "    <tr>\n",
       "      <th>1</th>\n",
       "      <td>Armenia</td>\n",
       "      <td>3,603</td>\n",
       "      <td>663</td>\n",
       "      <td>2 Apr</td>\n",
       "      <td>1,221</td>\n",
       "      <td>74</td>\n",
       "      <td>[75]</td>\n",
       "    </tr>\n",
       "    <tr>\n",
       "      <th>2</th>\n",
       "      <td>Australia</td>\n",
       "      <td>277,355</td>\n",
       "      <td>5,358</td>\n",
       "      <td>3 Apr</td>\n",
       "      <td>10,919</td>\n",
       "      <td>19</td>\n",
       "      <td>[76]</td>\n",
       "    </tr>\n",
       "    <tr>\n",
       "      <th>3</th>\n",
       "      <td>Austria</td>\n",
       "      <td>98,343</td>\n",
       "      <td>11,350</td>\n",
       "      <td>3 Apr</td>\n",
       "      <td>11,047</td>\n",
       "      <td>101</td>\n",
       "      <td>[77]</td>\n",
       "    </tr>\n",
       "    <tr>\n",
       "      <th>4</th>\n",
       "      <td>Azerbaijan</td>\n",
       "      <td>30,000</td>\n",
       "      <td>443</td>\n",
       "      <td>3 Apr</td>\n",
       "      <td>3,031</td>\n",
       "      <td>15</td>\n",
       "      <td>[78]</td>\n",
       "    </tr>\n",
       "  </tbody>\n",
       "</table>\n",
       "</div>"
      ],
      "text/plain": [
       "      country    tests positive   date testpermillion positiveperthousand  \\\n",
       "0   Argentina     7385     1265  3 Apr            164                 171   \n",
       "1     Armenia    3,603      663  2 Apr          1,221                  74   \n",
       "2   Australia  277,355    5,358  3 Apr         10,919                  19   \n",
       "3     Austria   98,343   11,350  3 Apr         11,047                 101   \n",
       "4  Azerbaijan   30,000      443  3 Apr          3,031                  15   \n",
       "\n",
       "    ref  \n",
       "0  [74]  \n",
       "1  [75]  \n",
       "2  [76]  \n",
       "3  [77]  \n",
       "4  [78]  "
      ]
     },
     "execution_count": 80,
     "metadata": {},
     "output_type": "execute_result"
    }
   ],
   "source": [
    "tests_df.head()"
   ]
  },
  {
   "cell_type": "markdown",
   "metadata": {},
   "source": [
    "## Veamos cuantos Positivos cada Mil tests, por país \n"
   ]
  },
  {
   "cell_type": "code",
   "execution_count": 93,
   "metadata": {},
   "outputs": [
    {
     "data": {
      "application/vnd.plotly.v1+json": {
       "config": {
        "plotlyServerURL": "https://plot.ly"
       },
       "data": [
        {
         "alignmentgroup": "True",
         "hovertemplate": "positiveperthousand=%{x}<br>country=%{y}<extra></extra>",
         "legendgroup": "",
         "marker": {
          "color": "#636efa"
         },
         "name": "",
         "offsetgroup": "",
         "orientation": "h",
         "showlegend": false,
         "textposition": "auto",
         "type": "bar",
         "x": [
          "",
          "",
          "0",
          "1.2",
          "1.4",
          "10",
          "100",
          "101",
          "101",
          "105",
          "107",
          "11",
          "111",
          "118",
          "120",
          "121",
          "123",
          "124",
          "13",
          "13.4",
          "130",
          "131",
          "136",
          "14",
          "143",
          "144",
          "148",
          "15",
          "151",
          "164",
          "165",
          "166",
          "167",
          "17",
          "171",
          "176",
          "18",
          "18",
          "180",
          "185",
          "185",
          "19",
          "192",
          "193",
          "20",
          "214",
          "220",
          "23",
          "234",
          "24",
          "244",
          "249",
          "25",
          "250",
          "26",
          "262",
          "27",
          "270",
          "3.2",
          "30",
          "307",
          "309",
          "31",
          "31",
          "318",
          "326",
          "329",
          "34",
          "35",
          "35",
          "352",
          "37",
          "38",
          "38",
          "395",
          "4.7",
          "40",
          "41",
          "443",
          "47",
          "5",
          "51",
          "55",
          "57",
          "573",
          "60",
          "61",
          "61",
          "63",
          "66",
          "67",
          "7.2",
          "70",
          "70",
          "71",
          "73",
          "74",
          "76",
          "76",
          "78",
          "8",
          "8",
          "80",
          "81",
          "82",
          "83",
          "85",
          "86",
          "90",
          "95",
          "96",
          "97",
          "99"
         ],
         "xaxis": "x",
         "y": [
          "Palestine",
          "Kazakhstan",
          "Grenada",
          "Canada:  NT",
          "China:  Guangdong",
          "Taiwan",
          "Jamaica",
          "Austria",
          "Romania",
          "United States:  FL",
          "Ireland",
          "Belarus",
          "Mexico",
          "Barbados",
          "Sweden",
          "Croatia",
          "Uruguay",
          "Italy:  Tuscany",
          "Kyrgyzstan",
          "Canada:  MB",
          "Bosnia and Herzegovina",
          "Switzerland",
          "Montenegro",
          "Singapore",
          "Portugal",
          "Brazil",
          "Turkey",
          "Azerbaijan",
          "Trinidad and Tobago",
          "Bolivia",
          "Netherlands",
          "Pakistan",
          "Japan:  Tokyo",
          "Canada:  AB",
          "Argentina",
          "Scotland",
          "Canada:  SK",
          "Bahrain",
          "Panama",
          "United States (unofficial)",
          "United States:  IL",
          "Australia",
          "United States:  LA",
          "Italy",
          "Canada:  NB",
          "Ukraine",
          "United Kingdom",
          "South Korea",
          "Serbia",
          "Canada:  BC",
          "France",
          "Indonesia",
          "Canada:  NS",
          "Italy:  Emilia-Romagna",
          "New Zealand",
          "India",
          "Latvia",
          "Iran",
          "Vietnam",
          "Canada:  PE",
          "Italy:  Liguria",
          "Italy:  Marche",
          "South Africa",
          "Malta",
          "Italy:  Piedmont",
          "United States:  MI",
          "Ecuador",
          "Bangladesh",
          "Hungary",
          "Egypt",
          "Italy:  Lombardy",
          "Slovenia",
          "Lithuania",
          "Slovakia",
          "United States:  NY",
          "United Arab Emirates",
          "Canada",
          "Canada:  ON",
          "United States:  NJ",
          "Poland",
          "Nepal",
          "Norway",
          "Estonia",
          "Czechia",
          "Philippines",
          "Colombia",
          "Finland",
          "Iceland",
          "Canada:  NL",
          "Japan",
          "Peru",
          "Russia",
          "Malaysia",
          "Spain",
          "Germany",
          "Canada:  QC",
          "Armenia",
          "Israel",
          "Greece",
          "Chile",
          "Hong Kong",
          "Canada:  YT",
          "Venezuela",
          "Belgium",
          "Kosovo",
          "Italy:  Veneto",
          "Thailand",
          "United States:  WA",
          "Costa Rica",
          "North Macedonia",
          "United States:  TX",
          "Denmark",
          "United States:  CA"
         ],
         "yaxis": "y"
        }
       ],
       "layout": {
        "barmode": "relative",
        "height": 1800,
        "legend": {
         "tracegroupgap": 0
        },
        "margin": {
         "t": 60
        },
        "template": {
         "data": {
          "bar": [
           {
            "error_x": {
             "color": "#2a3f5f"
            },
            "error_y": {
             "color": "#2a3f5f"
            },
            "marker": {
             "line": {
              "color": "#E5ECF6",
              "width": 0.5
             }
            },
            "type": "bar"
           }
          ],
          "barpolar": [
           {
            "marker": {
             "line": {
              "color": "#E5ECF6",
              "width": 0.5
             }
            },
            "type": "barpolar"
           }
          ],
          "carpet": [
           {
            "aaxis": {
             "endlinecolor": "#2a3f5f",
             "gridcolor": "white",
             "linecolor": "white",
             "minorgridcolor": "white",
             "startlinecolor": "#2a3f5f"
            },
            "baxis": {
             "endlinecolor": "#2a3f5f",
             "gridcolor": "white",
             "linecolor": "white",
             "minorgridcolor": "white",
             "startlinecolor": "#2a3f5f"
            },
            "type": "carpet"
           }
          ],
          "choropleth": [
           {
            "colorbar": {
             "outlinewidth": 0,
             "ticks": ""
            },
            "type": "choropleth"
           }
          ],
          "contour": [
           {
            "colorbar": {
             "outlinewidth": 0,
             "ticks": ""
            },
            "colorscale": [
             [
              0,
              "#0d0887"
             ],
             [
              0.1111111111111111,
              "#46039f"
             ],
             [
              0.2222222222222222,
              "#7201a8"
             ],
             [
              0.3333333333333333,
              "#9c179e"
             ],
             [
              0.4444444444444444,
              "#bd3786"
             ],
             [
              0.5555555555555556,
              "#d8576b"
             ],
             [
              0.6666666666666666,
              "#ed7953"
             ],
             [
              0.7777777777777778,
              "#fb9f3a"
             ],
             [
              0.8888888888888888,
              "#fdca26"
             ],
             [
              1,
              "#f0f921"
             ]
            ],
            "type": "contour"
           }
          ],
          "contourcarpet": [
           {
            "colorbar": {
             "outlinewidth": 0,
             "ticks": ""
            },
            "type": "contourcarpet"
           }
          ],
          "heatmap": [
           {
            "colorbar": {
             "outlinewidth": 0,
             "ticks": ""
            },
            "colorscale": [
             [
              0,
              "#0d0887"
             ],
             [
              0.1111111111111111,
              "#46039f"
             ],
             [
              0.2222222222222222,
              "#7201a8"
             ],
             [
              0.3333333333333333,
              "#9c179e"
             ],
             [
              0.4444444444444444,
              "#bd3786"
             ],
             [
              0.5555555555555556,
              "#d8576b"
             ],
             [
              0.6666666666666666,
              "#ed7953"
             ],
             [
              0.7777777777777778,
              "#fb9f3a"
             ],
             [
              0.8888888888888888,
              "#fdca26"
             ],
             [
              1,
              "#f0f921"
             ]
            ],
            "type": "heatmap"
           }
          ],
          "heatmapgl": [
           {
            "colorbar": {
             "outlinewidth": 0,
             "ticks": ""
            },
            "colorscale": [
             [
              0,
              "#0d0887"
             ],
             [
              0.1111111111111111,
              "#46039f"
             ],
             [
              0.2222222222222222,
              "#7201a8"
             ],
             [
              0.3333333333333333,
              "#9c179e"
             ],
             [
              0.4444444444444444,
              "#bd3786"
             ],
             [
              0.5555555555555556,
              "#d8576b"
             ],
             [
              0.6666666666666666,
              "#ed7953"
             ],
             [
              0.7777777777777778,
              "#fb9f3a"
             ],
             [
              0.8888888888888888,
              "#fdca26"
             ],
             [
              1,
              "#f0f921"
             ]
            ],
            "type": "heatmapgl"
           }
          ],
          "histogram": [
           {
            "marker": {
             "colorbar": {
              "outlinewidth": 0,
              "ticks": ""
             }
            },
            "type": "histogram"
           }
          ],
          "histogram2d": [
           {
            "colorbar": {
             "outlinewidth": 0,
             "ticks": ""
            },
            "colorscale": [
             [
              0,
              "#0d0887"
             ],
             [
              0.1111111111111111,
              "#46039f"
             ],
             [
              0.2222222222222222,
              "#7201a8"
             ],
             [
              0.3333333333333333,
              "#9c179e"
             ],
             [
              0.4444444444444444,
              "#bd3786"
             ],
             [
              0.5555555555555556,
              "#d8576b"
             ],
             [
              0.6666666666666666,
              "#ed7953"
             ],
             [
              0.7777777777777778,
              "#fb9f3a"
             ],
             [
              0.8888888888888888,
              "#fdca26"
             ],
             [
              1,
              "#f0f921"
             ]
            ],
            "type": "histogram2d"
           }
          ],
          "histogram2dcontour": [
           {
            "colorbar": {
             "outlinewidth": 0,
             "ticks": ""
            },
            "colorscale": [
             [
              0,
              "#0d0887"
             ],
             [
              0.1111111111111111,
              "#46039f"
             ],
             [
              0.2222222222222222,
              "#7201a8"
             ],
             [
              0.3333333333333333,
              "#9c179e"
             ],
             [
              0.4444444444444444,
              "#bd3786"
             ],
             [
              0.5555555555555556,
              "#d8576b"
             ],
             [
              0.6666666666666666,
              "#ed7953"
             ],
             [
              0.7777777777777778,
              "#fb9f3a"
             ],
             [
              0.8888888888888888,
              "#fdca26"
             ],
             [
              1,
              "#f0f921"
             ]
            ],
            "type": "histogram2dcontour"
           }
          ],
          "mesh3d": [
           {
            "colorbar": {
             "outlinewidth": 0,
             "ticks": ""
            },
            "type": "mesh3d"
           }
          ],
          "parcoords": [
           {
            "line": {
             "colorbar": {
              "outlinewidth": 0,
              "ticks": ""
             }
            },
            "type": "parcoords"
           }
          ],
          "pie": [
           {
            "automargin": true,
            "type": "pie"
           }
          ],
          "scatter": [
           {
            "marker": {
             "colorbar": {
              "outlinewidth": 0,
              "ticks": ""
             }
            },
            "type": "scatter"
           }
          ],
          "scatter3d": [
           {
            "line": {
             "colorbar": {
              "outlinewidth": 0,
              "ticks": ""
             }
            },
            "marker": {
             "colorbar": {
              "outlinewidth": 0,
              "ticks": ""
             }
            },
            "type": "scatter3d"
           }
          ],
          "scattercarpet": [
           {
            "marker": {
             "colorbar": {
              "outlinewidth": 0,
              "ticks": ""
             }
            },
            "type": "scattercarpet"
           }
          ],
          "scattergeo": [
           {
            "marker": {
             "colorbar": {
              "outlinewidth": 0,
              "ticks": ""
             }
            },
            "type": "scattergeo"
           }
          ],
          "scattergl": [
           {
            "marker": {
             "colorbar": {
              "outlinewidth": 0,
              "ticks": ""
             }
            },
            "type": "scattergl"
           }
          ],
          "scattermapbox": [
           {
            "marker": {
             "colorbar": {
              "outlinewidth": 0,
              "ticks": ""
             }
            },
            "type": "scattermapbox"
           }
          ],
          "scatterpolar": [
           {
            "marker": {
             "colorbar": {
              "outlinewidth": 0,
              "ticks": ""
             }
            },
            "type": "scatterpolar"
           }
          ],
          "scatterpolargl": [
           {
            "marker": {
             "colorbar": {
              "outlinewidth": 0,
              "ticks": ""
             }
            },
            "type": "scatterpolargl"
           }
          ],
          "scatterternary": [
           {
            "marker": {
             "colorbar": {
              "outlinewidth": 0,
              "ticks": ""
             }
            },
            "type": "scatterternary"
           }
          ],
          "surface": [
           {
            "colorbar": {
             "outlinewidth": 0,
             "ticks": ""
            },
            "colorscale": [
             [
              0,
              "#0d0887"
             ],
             [
              0.1111111111111111,
              "#46039f"
             ],
             [
              0.2222222222222222,
              "#7201a8"
             ],
             [
              0.3333333333333333,
              "#9c179e"
             ],
             [
              0.4444444444444444,
              "#bd3786"
             ],
             [
              0.5555555555555556,
              "#d8576b"
             ],
             [
              0.6666666666666666,
              "#ed7953"
             ],
             [
              0.7777777777777778,
              "#fb9f3a"
             ],
             [
              0.8888888888888888,
              "#fdca26"
             ],
             [
              1,
              "#f0f921"
             ]
            ],
            "type": "surface"
           }
          ],
          "table": [
           {
            "cells": {
             "fill": {
              "color": "#EBF0F8"
             },
             "line": {
              "color": "white"
             }
            },
            "header": {
             "fill": {
              "color": "#C8D4E3"
             },
             "line": {
              "color": "white"
             }
            },
            "type": "table"
           }
          ]
         },
         "layout": {
          "annotationdefaults": {
           "arrowcolor": "#2a3f5f",
           "arrowhead": 0,
           "arrowwidth": 1
          },
          "coloraxis": {
           "colorbar": {
            "outlinewidth": 0,
            "ticks": ""
           }
          },
          "colorscale": {
           "diverging": [
            [
             0,
             "#8e0152"
            ],
            [
             0.1,
             "#c51b7d"
            ],
            [
             0.2,
             "#de77ae"
            ],
            [
             0.3,
             "#f1b6da"
            ],
            [
             0.4,
             "#fde0ef"
            ],
            [
             0.5,
             "#f7f7f7"
            ],
            [
             0.6,
             "#e6f5d0"
            ],
            [
             0.7,
             "#b8e186"
            ],
            [
             0.8,
             "#7fbc41"
            ],
            [
             0.9,
             "#4d9221"
            ],
            [
             1,
             "#276419"
            ]
           ],
           "sequential": [
            [
             0,
             "#0d0887"
            ],
            [
             0.1111111111111111,
             "#46039f"
            ],
            [
             0.2222222222222222,
             "#7201a8"
            ],
            [
             0.3333333333333333,
             "#9c179e"
            ],
            [
             0.4444444444444444,
             "#bd3786"
            ],
            [
             0.5555555555555556,
             "#d8576b"
            ],
            [
             0.6666666666666666,
             "#ed7953"
            ],
            [
             0.7777777777777778,
             "#fb9f3a"
            ],
            [
             0.8888888888888888,
             "#fdca26"
            ],
            [
             1,
             "#f0f921"
            ]
           ],
           "sequentialminus": [
            [
             0,
             "#0d0887"
            ],
            [
             0.1111111111111111,
             "#46039f"
            ],
            [
             0.2222222222222222,
             "#7201a8"
            ],
            [
             0.3333333333333333,
             "#9c179e"
            ],
            [
             0.4444444444444444,
             "#bd3786"
            ],
            [
             0.5555555555555556,
             "#d8576b"
            ],
            [
             0.6666666666666666,
             "#ed7953"
            ],
            [
             0.7777777777777778,
             "#fb9f3a"
            ],
            [
             0.8888888888888888,
             "#fdca26"
            ],
            [
             1,
             "#f0f921"
            ]
           ]
          },
          "colorway": [
           "#636efa",
           "#EF553B",
           "#00cc96",
           "#ab63fa",
           "#FFA15A",
           "#19d3f3",
           "#FF6692",
           "#B6E880",
           "#FF97FF",
           "#FECB52"
          ],
          "font": {
           "color": "#2a3f5f"
          },
          "geo": {
           "bgcolor": "white",
           "lakecolor": "white",
           "landcolor": "#E5ECF6",
           "showlakes": true,
           "showland": true,
           "subunitcolor": "white"
          },
          "hoverlabel": {
           "align": "left"
          },
          "hovermode": "closest",
          "mapbox": {
           "style": "light"
          },
          "paper_bgcolor": "white",
          "plot_bgcolor": "#E5ECF6",
          "polar": {
           "angularaxis": {
            "gridcolor": "white",
            "linecolor": "white",
            "ticks": ""
           },
           "bgcolor": "#E5ECF6",
           "radialaxis": {
            "gridcolor": "white",
            "linecolor": "white",
            "ticks": ""
           }
          },
          "scene": {
           "xaxis": {
            "backgroundcolor": "#E5ECF6",
            "gridcolor": "white",
            "gridwidth": 2,
            "linecolor": "white",
            "showbackground": true,
            "ticks": "",
            "zerolinecolor": "white"
           },
           "yaxis": {
            "backgroundcolor": "#E5ECF6",
            "gridcolor": "white",
            "gridwidth": 2,
            "linecolor": "white",
            "showbackground": true,
            "ticks": "",
            "zerolinecolor": "white"
           },
           "zaxis": {
            "backgroundcolor": "#E5ECF6",
            "gridcolor": "white",
            "gridwidth": 2,
            "linecolor": "white",
            "showbackground": true,
            "ticks": "",
            "zerolinecolor": "white"
           }
          },
          "shapedefaults": {
           "line": {
            "color": "#2a3f5f"
           }
          },
          "ternary": {
           "aaxis": {
            "gridcolor": "white",
            "linecolor": "white",
            "ticks": ""
           },
           "baxis": {
            "gridcolor": "white",
            "linecolor": "white",
            "ticks": ""
           },
           "bgcolor": "#E5ECF6",
           "caxis": {
            "gridcolor": "white",
            "linecolor": "white",
            "ticks": ""
           }
          },
          "title": {
           "x": 0.05
          },
          "xaxis": {
           "automargin": true,
           "gridcolor": "white",
           "linecolor": "white",
           "ticks": "",
           "title": {
            "standoff": 15
           },
           "zerolinecolor": "white",
           "zerolinewidth": 2
          },
          "yaxis": {
           "automargin": true,
           "gridcolor": "white",
           "linecolor": "white",
           "ticks": "",
           "title": {
            "standoff": 15
           },
           "zerolinecolor": "white",
           "zerolinewidth": 2
          }
         }
        },
        "xaxis": {
         "anchor": "y",
         "domain": [
          0,
          1
         ],
         "title": {
          "text": "positiveperthousand"
         }
        },
        "yaxis": {
         "anchor": "x",
         "domain": [
          0,
          1
         ],
         "title": {
          "text": "country"
         }
        }
       }
      },
      "text/html": [
       "<div>\n",
       "        \n",
       "        \n",
       "            <div id=\"d3b029aa-25e6-4711-a506-89c6827923f4\" class=\"plotly-graph-div\" style=\"height:1800px; width:100%;\"></div>\n",
       "            <script type=\"text/javascript\">\n",
       "                require([\"plotly\"], function(Plotly) {\n",
       "                    window.PLOTLYENV=window.PLOTLYENV || {};\n",
       "                    \n",
       "                if (document.getElementById(\"d3b029aa-25e6-4711-a506-89c6827923f4\")) {\n",
       "                    Plotly.newPlot(\n",
       "                        'd3b029aa-25e6-4711-a506-89c6827923f4',\n",
       "                        [{\"alignmentgroup\": \"True\", \"hovertemplate\": \"positiveperthousand=%{x}<br>country=%{y}<extra></extra>\", \"legendgroup\": \"\", \"marker\": {\"color\": \"#636efa\"}, \"name\": \"\", \"offsetgroup\": \"\", \"orientation\": \"h\", \"showlegend\": false, \"textposition\": \"auto\", \"type\": \"bar\", \"x\": [\"\", \"\", \"0\", \"1.2\", \"1.4\", \"10\", \"100\", \"101\", \"101\", \"105\", \"107\", \"11\", \"111\", \"118\", \"120\", \"121\", \"123\", \"124\", \"13\", \"13.4\", \"130\", \"131\", \"136\", \"14\", \"143\", \"144\", \"148\", \"15\", \"151\", \"164\", \"165\", \"166\", \"167\", \"17\", \"171\", \"176\", \"18\", \"18\", \"180\", \"185\", \"185\", \"19\", \"192\", \"193\", \"20\", \"214\", \"220\", \"23\", \"234\", \"24\", \"244\", \"249\", \"25\", \"250\", \"26\", \"262\", \"27\", \"270\", \"3.2\", \"30\", \"307\", \"309\", \"31\", \"31\", \"318\", \"326\", \"329\", \"34\", \"35\", \"35\", \"352\", \"37\", \"38\", \"38\", \"395\", \"4.7\", \"40\", \"41\", \"443\", \"47\", \"5\", \"51\", \"55\", \"57\", \"573\", \"60\", \"61\", \"61\", \"63\", \"66\", \"67\", \"7.2\", \"70\", \"70\", \"71\", \"73\", \"74\", \"76\", \"76\", \"78\", \"8\", \"8\", \"80\", \"81\", \"82\", \"83\", \"85\", \"86\", \"90\", \"95\", \"96\", \"97\", \"99\"], \"xaxis\": \"x\", \"y\": [\"Palestine\", \"Kazakhstan\", \"Grenada\", \"Canada:  NT\", \"China:  Guangdong\", \"Taiwan\", \"Jamaica\", \"Austria\", \"Romania\", \"United States:  FL\", \"Ireland\", \"Belarus\", \"Mexico\", \"Barbados\", \"Sweden\", \"Croatia\", \"Uruguay\", \"Italy:  Tuscany\", \"Kyrgyzstan\", \"Canada:  MB\", \"Bosnia and Herzegovina\", \"Switzerland\", \"Montenegro\", \"Singapore\", \"Portugal\", \"Brazil\", \"Turkey\", \"Azerbaijan\", \"Trinidad and Tobago\", \"Bolivia\", \"Netherlands\", \"Pakistan\", \"Japan:  Tokyo\", \"Canada:  AB\", \"Argentina\", \"Scotland\", \"Canada:  SK\", \"Bahrain\", \"Panama\", \"United States (unofficial)\", \"United States:  IL\", \"Australia\", \"United States:  LA\", \"Italy\", \"Canada:  NB\", \"Ukraine\", \"United Kingdom\", \"South Korea\", \"Serbia\", \"Canada:  BC\", \"France\", \"Indonesia\", \"Canada:  NS\", \"Italy:  Emilia-Romagna\", \"New Zealand\", \"India\", \"Latvia\", \"Iran\", \"Vietnam\", \"Canada:  PE\", \"Italy:  Liguria\", \"Italy:  Marche\", \"South Africa\", \"Malta\", \"Italy:  Piedmont\", \"United States:  MI\", \"Ecuador\", \"Bangladesh\", \"Hungary\", \"Egypt\", \"Italy:  Lombardy\", \"Slovenia\", \"Lithuania\", \"Slovakia\", \"United States:  NY\", \"United Arab Emirates\", \"Canada\", \"Canada:  ON\", \"United States:  NJ\", \"Poland\", \"Nepal\", \"Norway\", \"Estonia\", \"Czechia\", \"Philippines\", \"Colombia\", \"Finland\", \"Iceland\", \"Canada:  NL\", \"Japan\", \"Peru\", \"Russia\", \"Malaysia\", \"Spain\", \"Germany\", \"Canada:  QC\", \"Armenia\", \"Israel\", \"Greece\", \"Chile\", \"Hong Kong\", \"Canada:  YT\", \"Venezuela\", \"Belgium\", \"Kosovo\", \"Italy:  Veneto\", \"Thailand\", \"United States:  WA\", \"Costa Rica\", \"North Macedonia\", \"United States:  TX\", \"Denmark\", \"United States:  CA\"], \"yaxis\": \"y\"}],\n",
       "                        {\"barmode\": \"relative\", \"height\": 1800, \"legend\": {\"tracegroupgap\": 0}, \"margin\": {\"t\": 60}, \"template\": {\"data\": {\"bar\": [{\"error_x\": {\"color\": \"#2a3f5f\"}, \"error_y\": {\"color\": \"#2a3f5f\"}, \"marker\": {\"line\": {\"color\": \"#E5ECF6\", \"width\": 0.5}}, \"type\": \"bar\"}], \"barpolar\": [{\"marker\": {\"line\": {\"color\": \"#E5ECF6\", \"width\": 0.5}}, \"type\": \"barpolar\"}], \"carpet\": [{\"aaxis\": {\"endlinecolor\": \"#2a3f5f\", \"gridcolor\": \"white\", \"linecolor\": \"white\", \"minorgridcolor\": \"white\", \"startlinecolor\": \"#2a3f5f\"}, \"baxis\": {\"endlinecolor\": \"#2a3f5f\", \"gridcolor\": \"white\", \"linecolor\": \"white\", \"minorgridcolor\": \"white\", \"startlinecolor\": \"#2a3f5f\"}, \"type\": \"carpet\"}], \"choropleth\": [{\"colorbar\": {\"outlinewidth\": 0, \"ticks\": \"\"}, \"type\": \"choropleth\"}], \"contour\": [{\"colorbar\": {\"outlinewidth\": 0, \"ticks\": \"\"}, \"colorscale\": [[0.0, \"#0d0887\"], [0.1111111111111111, \"#46039f\"], [0.2222222222222222, \"#7201a8\"], [0.3333333333333333, \"#9c179e\"], [0.4444444444444444, \"#bd3786\"], [0.5555555555555556, \"#d8576b\"], [0.6666666666666666, \"#ed7953\"], [0.7777777777777778, \"#fb9f3a\"], [0.8888888888888888, \"#fdca26\"], [1.0, \"#f0f921\"]], \"type\": \"contour\"}], \"contourcarpet\": [{\"colorbar\": {\"outlinewidth\": 0, \"ticks\": \"\"}, \"type\": \"contourcarpet\"}], \"heatmap\": [{\"colorbar\": {\"outlinewidth\": 0, \"ticks\": \"\"}, \"colorscale\": [[0.0, \"#0d0887\"], [0.1111111111111111, \"#46039f\"], [0.2222222222222222, \"#7201a8\"], [0.3333333333333333, \"#9c179e\"], [0.4444444444444444, \"#bd3786\"], [0.5555555555555556, \"#d8576b\"], [0.6666666666666666, \"#ed7953\"], [0.7777777777777778, \"#fb9f3a\"], [0.8888888888888888, \"#fdca26\"], [1.0, \"#f0f921\"]], \"type\": \"heatmap\"}], \"heatmapgl\": [{\"colorbar\": {\"outlinewidth\": 0, \"ticks\": \"\"}, \"colorscale\": [[0.0, \"#0d0887\"], [0.1111111111111111, \"#46039f\"], [0.2222222222222222, \"#7201a8\"], [0.3333333333333333, \"#9c179e\"], [0.4444444444444444, \"#bd3786\"], [0.5555555555555556, \"#d8576b\"], [0.6666666666666666, \"#ed7953\"], [0.7777777777777778, \"#fb9f3a\"], [0.8888888888888888, \"#fdca26\"], [1.0, \"#f0f921\"]], \"type\": \"heatmapgl\"}], \"histogram\": [{\"marker\": {\"colorbar\": {\"outlinewidth\": 0, \"ticks\": \"\"}}, \"type\": \"histogram\"}], \"histogram2d\": [{\"colorbar\": {\"outlinewidth\": 0, \"ticks\": \"\"}, \"colorscale\": [[0.0, \"#0d0887\"], [0.1111111111111111, \"#46039f\"], [0.2222222222222222, \"#7201a8\"], [0.3333333333333333, \"#9c179e\"], [0.4444444444444444, \"#bd3786\"], [0.5555555555555556, \"#d8576b\"], [0.6666666666666666, \"#ed7953\"], [0.7777777777777778, \"#fb9f3a\"], [0.8888888888888888, \"#fdca26\"], [1.0, \"#f0f921\"]], \"type\": \"histogram2d\"}], \"histogram2dcontour\": [{\"colorbar\": {\"outlinewidth\": 0, \"ticks\": \"\"}, \"colorscale\": [[0.0, \"#0d0887\"], [0.1111111111111111, \"#46039f\"], [0.2222222222222222, \"#7201a8\"], [0.3333333333333333, \"#9c179e\"], [0.4444444444444444, \"#bd3786\"], [0.5555555555555556, \"#d8576b\"], [0.6666666666666666, \"#ed7953\"], [0.7777777777777778, \"#fb9f3a\"], [0.8888888888888888, \"#fdca26\"], [1.0, \"#f0f921\"]], \"type\": \"histogram2dcontour\"}], \"mesh3d\": [{\"colorbar\": {\"outlinewidth\": 0, \"ticks\": \"\"}, \"type\": \"mesh3d\"}], \"parcoords\": [{\"line\": {\"colorbar\": {\"outlinewidth\": 0, \"ticks\": \"\"}}, \"type\": \"parcoords\"}], \"pie\": [{\"automargin\": true, \"type\": \"pie\"}], \"scatter\": [{\"marker\": {\"colorbar\": {\"outlinewidth\": 0, \"ticks\": \"\"}}, \"type\": \"scatter\"}], \"scatter3d\": [{\"line\": {\"colorbar\": {\"outlinewidth\": 0, \"ticks\": \"\"}}, \"marker\": {\"colorbar\": {\"outlinewidth\": 0, \"ticks\": \"\"}}, \"type\": \"scatter3d\"}], \"scattercarpet\": [{\"marker\": {\"colorbar\": {\"outlinewidth\": 0, \"ticks\": \"\"}}, \"type\": \"scattercarpet\"}], \"scattergeo\": [{\"marker\": {\"colorbar\": {\"outlinewidth\": 0, \"ticks\": \"\"}}, \"type\": \"scattergeo\"}], \"scattergl\": [{\"marker\": {\"colorbar\": {\"outlinewidth\": 0, \"ticks\": \"\"}}, \"type\": \"scattergl\"}], \"scattermapbox\": [{\"marker\": {\"colorbar\": {\"outlinewidth\": 0, \"ticks\": \"\"}}, \"type\": \"scattermapbox\"}], \"scatterpolar\": [{\"marker\": {\"colorbar\": {\"outlinewidth\": 0, \"ticks\": \"\"}}, \"type\": \"scatterpolar\"}], \"scatterpolargl\": [{\"marker\": {\"colorbar\": {\"outlinewidth\": 0, \"ticks\": \"\"}}, \"type\": \"scatterpolargl\"}], \"scatterternary\": [{\"marker\": {\"colorbar\": {\"outlinewidth\": 0, \"ticks\": \"\"}}, \"type\": \"scatterternary\"}], \"surface\": [{\"colorbar\": {\"outlinewidth\": 0, \"ticks\": \"\"}, \"colorscale\": [[0.0, \"#0d0887\"], [0.1111111111111111, \"#46039f\"], [0.2222222222222222, \"#7201a8\"], [0.3333333333333333, \"#9c179e\"], [0.4444444444444444, \"#bd3786\"], [0.5555555555555556, \"#d8576b\"], [0.6666666666666666, \"#ed7953\"], [0.7777777777777778, \"#fb9f3a\"], [0.8888888888888888, \"#fdca26\"], [1.0, \"#f0f921\"]], \"type\": \"surface\"}], \"table\": [{\"cells\": {\"fill\": {\"color\": \"#EBF0F8\"}, \"line\": {\"color\": \"white\"}}, \"header\": {\"fill\": {\"color\": \"#C8D4E3\"}, \"line\": {\"color\": \"white\"}}, \"type\": \"table\"}]}, \"layout\": {\"annotationdefaults\": {\"arrowcolor\": \"#2a3f5f\", \"arrowhead\": 0, \"arrowwidth\": 1}, \"coloraxis\": {\"colorbar\": {\"outlinewidth\": 0, \"ticks\": \"\"}}, \"colorscale\": {\"diverging\": [[0, \"#8e0152\"], [0.1, \"#c51b7d\"], [0.2, \"#de77ae\"], [0.3, \"#f1b6da\"], [0.4, \"#fde0ef\"], [0.5, \"#f7f7f7\"], [0.6, \"#e6f5d0\"], [0.7, \"#b8e186\"], [0.8, \"#7fbc41\"], [0.9, \"#4d9221\"], [1, \"#276419\"]], \"sequential\": [[0.0, \"#0d0887\"], [0.1111111111111111, \"#46039f\"], [0.2222222222222222, \"#7201a8\"], [0.3333333333333333, \"#9c179e\"], [0.4444444444444444, \"#bd3786\"], [0.5555555555555556, \"#d8576b\"], [0.6666666666666666, \"#ed7953\"], [0.7777777777777778, \"#fb9f3a\"], [0.8888888888888888, \"#fdca26\"], [1.0, \"#f0f921\"]], \"sequentialminus\": [[0.0, \"#0d0887\"], [0.1111111111111111, \"#46039f\"], [0.2222222222222222, \"#7201a8\"], [0.3333333333333333, \"#9c179e\"], [0.4444444444444444, \"#bd3786\"], [0.5555555555555556, \"#d8576b\"], [0.6666666666666666, \"#ed7953\"], [0.7777777777777778, \"#fb9f3a\"], [0.8888888888888888, \"#fdca26\"], [1.0, \"#f0f921\"]]}, \"colorway\": [\"#636efa\", \"#EF553B\", \"#00cc96\", \"#ab63fa\", \"#FFA15A\", \"#19d3f3\", \"#FF6692\", \"#B6E880\", \"#FF97FF\", \"#FECB52\"], \"font\": {\"color\": \"#2a3f5f\"}, \"geo\": {\"bgcolor\": \"white\", \"lakecolor\": \"white\", \"landcolor\": \"#E5ECF6\", \"showlakes\": true, \"showland\": true, \"subunitcolor\": \"white\"}, \"hoverlabel\": {\"align\": \"left\"}, \"hovermode\": \"closest\", \"mapbox\": {\"style\": \"light\"}, \"paper_bgcolor\": \"white\", \"plot_bgcolor\": \"#E5ECF6\", \"polar\": {\"angularaxis\": {\"gridcolor\": \"white\", \"linecolor\": \"white\", \"ticks\": \"\"}, \"bgcolor\": \"#E5ECF6\", \"radialaxis\": {\"gridcolor\": \"white\", \"linecolor\": \"white\", \"ticks\": \"\"}}, \"scene\": {\"xaxis\": {\"backgroundcolor\": \"#E5ECF6\", \"gridcolor\": \"white\", \"gridwidth\": 2, \"linecolor\": \"white\", \"showbackground\": true, \"ticks\": \"\", \"zerolinecolor\": \"white\"}, \"yaxis\": {\"backgroundcolor\": \"#E5ECF6\", \"gridcolor\": \"white\", \"gridwidth\": 2, \"linecolor\": \"white\", \"showbackground\": true, \"ticks\": \"\", \"zerolinecolor\": \"white\"}, \"zaxis\": {\"backgroundcolor\": \"#E5ECF6\", \"gridcolor\": \"white\", \"gridwidth\": 2, \"linecolor\": \"white\", \"showbackground\": true, \"ticks\": \"\", \"zerolinecolor\": \"white\"}}, \"shapedefaults\": {\"line\": {\"color\": \"#2a3f5f\"}}, \"ternary\": {\"aaxis\": {\"gridcolor\": \"white\", \"linecolor\": \"white\", \"ticks\": \"\"}, \"baxis\": {\"gridcolor\": \"white\", \"linecolor\": \"white\", \"ticks\": \"\"}, \"bgcolor\": \"#E5ECF6\", \"caxis\": {\"gridcolor\": \"white\", \"linecolor\": \"white\", \"ticks\": \"\"}}, \"title\": {\"x\": 0.05}, \"xaxis\": {\"automargin\": true, \"gridcolor\": \"white\", \"linecolor\": \"white\", \"ticks\": \"\", \"title\": {\"standoff\": 15}, \"zerolinecolor\": \"white\", \"zerolinewidth\": 2}, \"yaxis\": {\"automargin\": true, \"gridcolor\": \"white\", \"linecolor\": \"white\", \"ticks\": \"\", \"title\": {\"standoff\": 15}, \"zerolinecolor\": \"white\", \"zerolinewidth\": 2}}}, \"xaxis\": {\"anchor\": \"y\", \"domain\": [0.0, 1.0], \"title\": {\"text\": \"positiveperthousand\"}}, \"yaxis\": {\"anchor\": \"x\", \"domain\": [0.0, 1.0], \"title\": {\"text\": \"country\"}}},\n",
       "                        {\"responsive\": true}\n",
       "                    ).then(function(){\n",
       "                            \n",
       "var gd = document.getElementById('d3b029aa-25e6-4711-a506-89c6827923f4');\n",
       "var x = new MutationObserver(function (mutations, observer) {{\n",
       "        var display = window.getComputedStyle(gd).display;\n",
       "        if (!display || display === 'none') {{\n",
       "            console.log([gd, 'removed!']);\n",
       "            Plotly.purge(gd);\n",
       "            observer.disconnect();\n",
       "        }}\n",
       "}});\n",
       "\n",
       "// Listen for the removal of the full notebook cells\n",
       "var notebookContainer = gd.closest('#notebook-container');\n",
       "if (notebookContainer) {{\n",
       "    x.observe(notebookContainer, {childList: true});\n",
       "}}\n",
       "\n",
       "// Listen for the clearing of the current output cell\n",
       "var outputEl = gd.closest('.output');\n",
       "if (outputEl) {{\n",
       "    x.observe(outputEl, {childList: true});\n",
       "}}\n",
       "\n",
       "                        })\n",
       "                };\n",
       "                });\n",
       "            </script>\n",
       "        </div>"
      ]
     },
     "metadata": {},
     "output_type": "display_data"
    }
   ],
   "source": [
    "import plotly.express as px\n",
    "tests_df_sorted = tests_df.sort_values(by=['positiveperthousand'])\n",
    "fig = px.bar(tests_df_sorted, x='positiveperthousand', y=\"country\", height=1800, orientation='h')\n",
    "fig.show()"
   ]
  },
  {
   "cell_type": "code",
   "execution_count": null,
   "metadata": {},
   "outputs": [],
   "source": []
  },
  {
   "cell_type": "code",
   "execution_count": null,
   "metadata": {},
   "outputs": [],
   "source": []
  }
 ],
 "metadata": {
  "kernelspec": {
   "display_name": "Python 3",
   "language": "python",
   "name": "python3"
  },
  "language_info": {
   "codemirror_mode": {
    "name": "ipython",
    "version": 3
   },
   "file_extension": ".py",
   "mimetype": "text/x-python",
   "name": "python",
   "nbconvert_exporter": "python",
   "pygments_lexer": "ipython3",
   "version": "3.8.1"
  }
 },
 "nbformat": 4,
 "nbformat_minor": 4
}
