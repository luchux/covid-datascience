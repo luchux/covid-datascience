{
  "nbformat": 4,
  "nbformat_minor": 0,
  "metadata": {
    "kernelspec": {
      "display_name": "Python 3",
      "language": "python",
      "name": "python3"
    },
    "language_info": {
      "codemirror_mode": {
        "name": "ipython",
        "version": 3
      },
      "file_extension": ".py",
      "mimetype": "text/x-python",
      "name": "python",
      "nbconvert_exporter": "python",
      "pygments_lexer": "ipython3",
      "version": "3.8.1"
    },
    "colab": {
      "name": "scrapWikiPlotStats.ipynb",
      "provenance": []
    }
  },
  "cells": [
    {
      "cell_type": "code",
      "metadata": {
        "id": "H4j0UX_1mSqb",
        "colab_type": "code",
        "colab": {}
      },
      "source": [
        "import requests\n",
        "from bs4 import BeautifulSoup\n",
        "import pandas as pd"
      ],
      "execution_count": 0,
      "outputs": []
    },
    {
      "cell_type": "code",
      "metadata": {
        "id": "EKJB13v-mSqg",
        "colab_type": "code",
        "colab": {}
      },
      "source": [
        "r = requests.get('https://en.wikipedia.org/wiki/COVID-19_testing')\n",
        "soup = BeautifulSoup(r.content, 'html.parser')"
      ],
      "execution_count": 0,
      "outputs": []
    },
    {
      "cell_type": "code",
      "metadata": {
        "id": "2veQwb1omSqj",
        "colab_type": "code",
        "colab": {}
      },
      "source": [
        "table = soup.find(\"table\", class_=\"covid19-testing\")"
      ],
      "execution_count": 0,
      "outputs": []
    },
    {
      "cell_type": "code",
      "metadata": {
        "id": "GzeZnfSNmSqn",
        "colab_type": "code",
        "colab": {}
      },
      "source": [
        "tr = table.tbody.find_all('tr')\n",
        "rows = [each.text.split('\\n\\n') for each in tr]\n"
      ],
      "execution_count": 0,
      "outputs": []
    },
    {
      "cell_type": "code",
      "metadata": {
        "id": "ui3Xhy-VmSqq",
        "colab_type": "code",
        "colab": {}
      },
      "source": [
        "#cleaning \\n and spaces at the beginning and end of the row cells\n",
        "rows = [[word.strip() for word in elem] for elem in rows]"
      ],
      "execution_count": 0,
      "outputs": []
    },
    {
      "cell_type": "code",
      "metadata": {
        "id": "mmninwzimSqt",
        "colab_type": "code",
        "outputId": "4f988b09-5221-4e2f-bba8-c1858a3f46ae",
        "colab": {
          "base_uri": "https://localhost:8080/",
          "height": 1000
        }
      },
      "source": [
        "rows"
      ],
      "execution_count": 0,
      "outputs": [
        {
          "output_type": "execute_result",
          "data": {
            "text/plain": [
              "[['Country or region',\n",
              "  'Tests',\n",
              "  'Positive',\n",
              "  'As of',\n",
              "  'Tests\\u2009/millionpeople',\n",
              "  'Positive\\u2009/thousandtests',\n",
              "  'Ref.'],\n",
              " ['Albania', '2,031', '304', '3 Apr', '709', '150', '[74]'],\n",
              " ['Argentina', '7,385', '1,265', '3 Apr', '164', '171', '[75]'],\n",
              " ['Armenia', '3,994', '736', '3 Apr', '1,353', '184', '[76]'],\n",
              " ['Australia', '277,355', '5,358', '3 Apr', '10,919', '19', '[77]'],\n",
              " ['Austria', '98,343', '11,350', '3 Apr', '11,047', '101', '[78]'],\n",
              " ['Azerbaijan', '30,000', '443', '3 Apr', '3,031', '15', '[79]'],\n",
              " ['Bahrain', '37,996', '668', '3 Apr', '24,210', '18', '[80]'],\n",
              " ['Bangladesh', '2,086', '61', '3 Apr', '13', '29', '[81]'],\n",
              " ['Barbados', '382', '45', '1 Apr', '1,331', '118', '[82]'],\n",
              " ['Belarus', '32,000', '362', '3 Apr', '3,371', '11', '[83]'],\n",
              " ['Belgium', '18,360', '1,486', '18 Mar', '1,594', '81', '[84][85]'],\n",
              " ['Bolivia', '591', '97', '19 Mar', '52', '164', '[86]'],\n",
              " ['Bosnia and Herzegovina',\n",
              "  '4,696',\n",
              "  '611',\n",
              "  '3 Apr',\n",
              "  '1,407',\n",
              "  '130',\n",
              "  '[87][88]'],\n",
              " ['Brazil', '54,824', '7,910', '2 Apr', '261', '144', '[89]'],\n",
              " ['Canada', '302,745', '12,549', '3 Apr', '7,989', '41', '[90]'],\n",
              " ['Canada:  AB', '61,960', '1,075', '3 Apr', '14,040', '17', '[91]'],\n",
              " ['Canada:  BC', '47,352', '1,174', '3 Apr', '9,265', '25', '[92]'],\n",
              " ['Canada:  MB', '11,327', '152', '2 Apr', '8,223', '13.4', '[93]'],\n",
              " ['Canada:  NB', '4,520', '91', '2 Apr', '5,795', '20', '[94]'],\n",
              " ['Canada:  NL', '2,333', '135', '30 Mar', '4,475', '63', '[95]'],\n",
              " ['Canada:  NT', '833', '1', '30 Mar', '18,551', '1.2', '[96]'],\n",
              " ['Canada:  NS', '5,172', '127', '30 Mar', '5,291', '25', '[97]'],\n",
              " ['Canada:  ON', '57,874', '2,392', '1 Apr', '3,934', '41', '[98]'],\n",
              " ['Canada:  PE', '608', '18', '30 Mar', '3,844', '30', '[99]'],\n",
              " ['Canada:  QC', '83,570', '6,101', '3 Apr', '9,788', '73', '[100]'],\n",
              " ['Canada:  SK', '10,528', '193', '1 Apr', '8,909', '18', '[101]'],\n",
              " ['Canada:  YT', '598', '5', '30 Mar', '14,558', '8', '[102]'],\n",
              " ['Chile', '35,142', '2,738', '31 Mar', '1,843', '78', '[103]'],\n",
              " ['China:  Guangdong', '320,000', '', '20 Feb', '2,820', '1.4', '[104]'],\n",
              " ['Colombia', '21,202', '1,267', '3 Apr', '439', '60', '[105]'],\n",
              " ['Costa Rica', '3,845', '347', '31 Mar', '769', '90', '[106]'],\n",
              " ['Croatia', '8,352', '1,011', '2 Apr', '2,049', '121', '[107]'],\n",
              " ['Czechia', '67,281', '3,858', '2 Apr', '6,318', '57', '[108]'],\n",
              " ['Denmark', '40,863', '3,946', '3 Apr', '6,892', '97', '[109]'],\n",
              " ['Ecuador', '10,317', '3,368', '3 Apr', '562', '329', '[110]'],\n",
              " ['Egypt', '25,000', '865', '25 Mar', '250', '35', '[111]'],\n",
              " ['Estonia', '15,725', '858', '2 Apr', '11,838', '55', '[112]'],\n",
              " ['Finland', '26,500', '1,615', '3 Apr', '4,790', '61', '[113][114]'],\n",
              " ['France', '224,254', '54,627', '2 Apr', '3,346', '244', '[115]'],\n",
              " ['Germany', '918,460', '64,906', '29 Mar', '11,046', '71', '[46]'],\n",
              " ['Greece', '15,961', '1,212', '30 Mar', '1,482', '76', '[116]'],\n",
              " ['Grenada', '18', '0', '19 Mar', '162', '0', '[117]'],\n",
              " ['Hong Kong', '90,000', '682', '30 Mar', '12,028', '8', '[118]'],\n",
              " ['Hungary', '17,769', '623', '3 Apr', '1,818', '35', '[119]'],\n",
              " ['Iceland', '22,195', '1,364', '3 Apr', '60,932', '61', '[120]'],\n",
              " ['India', '69,245', '2,653', '3 Apr', '51', '38', '[121]'],\n",
              " ['Indonesia', '7,193', '1,790', '2 Apr', '27', '249', '[122]'],\n",
              " ['Iran', '80,000', '21,638', '22 Mar', '962', '270', '[123]'],\n",
              " ['Ireland', '30,213', '3,235', '30 Mar', '6,345', '107', '[124]'],\n",
              " ['Israel', '90,394', '6,901', '2 Apr', '9,852', '76', '[125]'],\n",
              " ['Italy', '619,849', '119,827', '3 Apr', '10,276', '193', '[126]'],\n",
              " ['Italy:  Emilia-Romagna',\n",
              "  '63,682',\n",
              "  '15,932',\n",
              "  '3 Apr',\n",
              "  '14,280',\n",
              "  '250',\n",
              "  '[126]'],\n",
              " ['Italy:  Liguria', '12,934', '3,965', '3 Apr', '8,341', '307', '[126]'],\n",
              " ['Italy:  Lombardy', '135,051', '47,520', '3 Apr', '13,424', '352', '[126]'],\n",
              " ['Italy:  Marche', '13,678', '4,230', '3 Apr', '8,968', '309', '[126]'],\n",
              " ['Italy:  Piedmont', '34,281', '10,896', '3 Apr', '7,869', '318', '[126]'],\n",
              " ['Italy:  Tuscany', '44,460', '5,499', '3 Apr', '11,921', '124', '[126]'],\n",
              " ['Italy:  Veneto', '126,490', '10,464', '3 Apr', '25,783', '83', '[126]'],\n",
              " ['Jamaica', '442', '44', '1 Apr', '162', '100', '[127]'],\n",
              " ['Japan', '39,446', '2,617', '3 Apr', '313', '66', '[128]'],\n",
              " ['Japan:  Tokyo', '4,104', '684', '2 Apr', '295', '167', '[129]'],\n",
              " ['Kazakhstan', '5,093', '', '13 Mar', '276', '', '[130][131]'],\n",
              " ['Kosovo', '1605', '132', '3 Apr', '887', '82', '[132]'],\n",
              " ['Kyrgyzstan', '8,186', '107', '31 Mar', '1,281', '13', '[133][134]'],\n",
              " ['Latvia', '18,198', '493', '3 Apr', '9,478', '27', '[135]'],\n",
              " ['Lithuania', '18,432', '696', '3 Apr', '6,596', '38', '[136]'],\n",
              " ['Malaysia', '47,723', '3,333', '3 Apr', '1,456', '70', '[137]'],\n",
              " ['Malta', '4,462', '139', '27 Mar', '9,040', '31', '[138]'],\n",
              " ['Mexico', '9,481', '1,049', '28 Mar', '75', '111', '[139]'],\n",
              " ['Montenegro', '1193', '174', '3 Apr', '1,632', '136', '[140]'],\n",
              " ['Nepal', '1185', '6', '2 Apr', '42', '5', '[141]'],\n",
              " ['Netherlands', '46,810', '7,705', '26 Mar', '2,686', '165', '[142]'],\n",
              " ['New Zealand', '33,116', '824', '4 Apr', '6,660', '25', '[143]'],\n",
              " ['North Macedonia', '4,506', '430', '3 Apr', '2,169', '95', '[144]'],\n",
              " ['Norway', '101,986', '5,208', '3 Apr', '19,000', '51', '[145]'],\n",
              " ['Pakistan', '30,308', '2,450', '3 Apr', '143', '166', '[146]'],\n",
              " ['Palestine', '2,519', '', '16 Mar', '499', '', '[147]'],\n",
              " ['Panama', '7,333', '1,317', '1 Apr', '1,756', '180', '[148]'],\n",
              " ['Peru', '12,669', '852', '27 Mar', '386', '67', '[149]'],\n",
              " ['Philippines', '5,265', '3,018', '3 Apr', '52', '573', '[150]'],\n",
              " ['Poland', '66,938', '3,149', '3 Apr', '1,744', '47', '[151]'],\n",
              " ['Portugal', '52,086', '7,443', '31 Mar', '5,068', '143', '[152]'],\n",
              " ['Romania', '31,657', '3,183', '3 Apr', '1,632', '101', '[153]'],\n",
              " ['Russia', '575,000', '4,149', '3 Apr', '3,918', '7.2', '[154][155]'],\n",
              " ['Scotland', '19,535', '3,001', '3 Apr', '3,592', '176', '[156]'],\n",
              " ['Serbia', '5,008', '1,171', '2 Apr', '719', '234', '[157]'],\n",
              " ['Singapore', '39,000', '558', '25 Mar', '6,838', '14', '[158]'],\n",
              " ['Slovakia', '11,742', '450', '3 Apr', '2,154', '38', '[159]'],\n",
              " ['Slovenia', '24,857', '911', '1 Apr', '11,870', '37', '[160]'],\n",
              " ['South Africa', '44,292', '1,380', '1 Apr', '754', '31', '[161]'],\n",
              " ['South Korea', '455,032', '10,156', '4 Apr', '8,800', '22', '[162]'],\n",
              " ['Spain', '355,000', '24,926', '21 Mar', '7,596', '70', '[163][164]'],\n",
              " ['Sweden', '36,900', '4,435', '31 Mar', '4,306', '120', '[165]'],\n",
              " ['Switzerland', '139,330', '18,267', '2 Apr', '16,258', '131', '[166]'],\n",
              " ['Taiwan', '34,557', '348', '3 Apr', '1,453', '10', '[167]'],\n",
              " ['Thailand', '23,669', '1,978', '3 Apr', '341', '84', '[168]'],\n",
              " ['Trinidad and Tobago', '595', '90', '1 Apr', '436', '151', '[169]'],\n",
              " ['Turkey', '141,716', '20,921', '3 Apr', '1,704', '148', '[170]'],\n",
              " ['Ukraine', '4,404', '942', '3 Apr', '105', '214', '[171]'],\n",
              " ['United Arab Emirates',\n",
              "  '220,000',\n",
              "  '1024',\n",
              "  '3 Apr',\n",
              "  '22,918',\n",
              "  '4.7',\n",
              "  '[172][173]'],\n",
              " ['United Kingdom', '173,784', '38,168', '3 Apr', '2,573', '220', '[174]'],\n",
              " ['United States (unofficial)',\n",
              "  '1,469,251',\n",
              "  '271,915',\n",
              "  '3 Apr',\n",
              "  '4,476',\n",
              "  '185',\n",
              "  '[175]'],\n",
              " ['United States:  CA', '94,800*', '10,701', '3 Apr', '2,399', '113', '[176]'],\n",
              " ['United States:  FL', '95,835', '10,268', '3 Apr', '4,462', '107', '[177]'],\n",
              " ['United States:  IL', '48,048', '8,904', '3 Apr', '3,792', '185', '[178]'],\n",
              " ['United States:  LA', '53,645', '10,297', '3 Apr', '11,512', '192', '[179]'],\n",
              " ['United States:  NY',\n",
              "  '260,520',\n",
              "  '102,863',\n",
              "  '3 Apr',\n",
              "  '13,392',\n",
              "  '395',\n",
              "  '[180]'],\n",
              " ['United States:  NJ', '67,503', '29,895', '3 Apr', '7,600', '443', '[181]'],\n",
              " ['United States:  OK', '2,303', '988', '3 Apr', '582', '429', '[182]'],\n",
              " ['United States:  MI', '37,992', '12,744', '3 Apr', '3,791', '335', '[183]'],\n",
              " ['United States:  TX', '55,764', '5,330', '3 Apr', '1,923', '96', '[184]'],\n",
              " ['United States:  WA', '82,599', '6,966', '3 Apr', '10,847', '84', '[185]'],\n",
              " ['Uruguay', '1,538', '189', '24 Mar', '443', '123', '[186]'],\n",
              " ['Venezuela', '1,779', '143', '31 Mar', '62', '80', '[187][188]'],\n",
              " ['Vietnam', '73,164', '233', '3 Apr', '760', '3.2', '[189]']]"
            ]
          },
          "metadata": {
            "tags": []
          },
          "execution_count": 6
        }
      ]
    },
    {
      "cell_type": "code",
      "metadata": {
        "id": "iujmBjV4mSqx",
        "colab_type": "code",
        "colab": {}
      },
      "source": [
        "#headers = rows[0]\n",
        "headers = ['country', 'tests', 'positive', 'date', 'testpermillion', 'positiveperthousand', 'ref']\n",
        "data = rows[1:]"
      ],
      "execution_count": 0,
      "outputs": []
    },
    {
      "cell_type": "code",
      "metadata": {
        "id": "98d6fY5MmSq0",
        "colab_type": "code",
        "colab": {}
      },
      "source": [
        "tests_df = pd.DataFrame(data, columns=headers)"
      ],
      "execution_count": 0,
      "outputs": []
    },
    {
      "cell_type": "code",
      "metadata": {
        "id": "c8qYYJR8mSq3",
        "colab_type": "code",
        "outputId": "7e873eeb-6342-43d0-b10c-3025d2582c45",
        "colab": {
          "base_uri": "https://localhost:8080/",
          "height": 204
        }
      },
      "source": [
        "tests_df.head()"
      ],
      "execution_count": 0,
      "outputs": [
        {
          "output_type": "execute_result",
          "data": {
            "text/html": [
              "<div>\n",
              "<style scoped>\n",
              "    .dataframe tbody tr th:only-of-type {\n",
              "        vertical-align: middle;\n",
              "    }\n",
              "\n",
              "    .dataframe tbody tr th {\n",
              "        vertical-align: top;\n",
              "    }\n",
              "\n",
              "    .dataframe thead th {\n",
              "        text-align: right;\n",
              "    }\n",
              "</style>\n",
              "<table border=\"1\" class=\"dataframe\">\n",
              "  <thead>\n",
              "    <tr style=\"text-align: right;\">\n",
              "      <th></th>\n",
              "      <th>country</th>\n",
              "      <th>tests</th>\n",
              "      <th>positive</th>\n",
              "      <th>date</th>\n",
              "      <th>testpermillion</th>\n",
              "      <th>positiveperthousand</th>\n",
              "      <th>ref</th>\n",
              "    </tr>\n",
              "  </thead>\n",
              "  <tbody>\n",
              "    <tr>\n",
              "      <th>0</th>\n",
              "      <td>Albania</td>\n",
              "      <td>2,031</td>\n",
              "      <td>304</td>\n",
              "      <td>3 Apr</td>\n",
              "      <td>709</td>\n",
              "      <td>150</td>\n",
              "      <td>[74]</td>\n",
              "    </tr>\n",
              "    <tr>\n",
              "      <th>1</th>\n",
              "      <td>Argentina</td>\n",
              "      <td>7,385</td>\n",
              "      <td>1,265</td>\n",
              "      <td>3 Apr</td>\n",
              "      <td>164</td>\n",
              "      <td>171</td>\n",
              "      <td>[75]</td>\n",
              "    </tr>\n",
              "    <tr>\n",
              "      <th>2</th>\n",
              "      <td>Armenia</td>\n",
              "      <td>3,994</td>\n",
              "      <td>736</td>\n",
              "      <td>3 Apr</td>\n",
              "      <td>1,353</td>\n",
              "      <td>184</td>\n",
              "      <td>[76]</td>\n",
              "    </tr>\n",
              "    <tr>\n",
              "      <th>3</th>\n",
              "      <td>Australia</td>\n",
              "      <td>277,355</td>\n",
              "      <td>5,358</td>\n",
              "      <td>3 Apr</td>\n",
              "      <td>10,919</td>\n",
              "      <td>19</td>\n",
              "      <td>[77]</td>\n",
              "    </tr>\n",
              "    <tr>\n",
              "      <th>4</th>\n",
              "      <td>Austria</td>\n",
              "      <td>98,343</td>\n",
              "      <td>11,350</td>\n",
              "      <td>3 Apr</td>\n",
              "      <td>11,047</td>\n",
              "      <td>101</td>\n",
              "      <td>[78]</td>\n",
              "    </tr>\n",
              "  </tbody>\n",
              "</table>\n",
              "</div>"
            ],
            "text/plain": [
              "     country    tests positive   date testpermillion positiveperthousand   ref\n",
              "0    Albania    2,031      304  3 Apr            709                 150  [74]\n",
              "1  Argentina    7,385    1,265  3 Apr            164                 171  [75]\n",
              "2    Armenia    3,994      736  3 Apr          1,353                 184  [76]\n",
              "3  Australia  277,355    5,358  3 Apr         10,919                  19  [77]\n",
              "4    Austria   98,343   11,350  3 Apr         11,047                 101  [78]"
            ]
          },
          "metadata": {
            "tags": []
          },
          "execution_count": 9
        }
      ]
    },
    {
      "cell_type": "markdown",
      "metadata": {
        "id": "fhlzhTx7mSq7",
        "colab_type": "text"
      },
      "source": [
        "## Veamos cuantos Positivos cada Mil tests, por país \n"
      ]
    },
    {
      "cell_type": "code",
      "metadata": {
        "id": "SxVIsAtbmSq7",
        "colab_type": "code",
        "outputId": "0f3a1cab-29e7-4819-b95e-cd00323167ca",
        "colab": {
          "base_uri": "https://localhost:8080/",
          "height": 617
        }
      },
      "source": [
        "import plotly.graph_objects as go\n",
        "\n",
        "x=tests_df['country']\n",
        "fig = go.Figure(go.Bar(x=x, y=tests_df['positive'], name='positives'))\n",
        "fig.add_trace(go.Bar(x=x, y=tests_df['positiveperthousand'], name='positives / 1000'))\n",
        "fig.add_trace(go.Bar(x=x, y=tests_df['tests'], name='total tests'))\n",
        "\n",
        "fig.update_layout(barmode='stack', xaxis={'categoryorder':'category ascending'}, height=600)\n",
        "fig.show()"
      ],
      "execution_count": 22,
      "outputs": [
        {
          "output_type": "display_data",
          "data": {
            "text/html": [
              "<html>\n",
              "<head><meta charset=\"utf-8\" /></head>\n",
              "<body>\n",
              "    <div>\n",
              "            <script src=\"https://cdnjs.cloudflare.com/ajax/libs/mathjax/2.7.5/MathJax.js?config=TeX-AMS-MML_SVG\"></script><script type=\"text/javascript\">if (window.MathJax) {MathJax.Hub.Config({SVG: {font: \"STIX-Web\"}});}</script>\n",
              "                <script type=\"text/javascript\">window.PlotlyConfig = {MathJaxConfig: 'local'};</script>\n",
              "        <script src=\"https://cdn.plot.ly/plotly-latest.min.js\"></script>    \n",
              "            <div id=\"005e6115-6cc3-415a-97be-531e2351bae3\" class=\"plotly-graph-div\" style=\"height:600px; width:100%;\"></div>\n",
              "            <script type=\"text/javascript\">\n",
              "                \n",
              "                    window.PLOTLYENV=window.PLOTLYENV || {};\n",
              "                    \n",
              "                if (document.getElementById(\"005e6115-6cc3-415a-97be-531e2351bae3\")) {\n",
              "                    Plotly.newPlot(\n",
              "                        '005e6115-6cc3-415a-97be-531e2351bae3',\n",
              "                        [{\"name\": \"positives\", \"type\": \"bar\", \"x\": [\"Albania\", \"Argentina\", \"Armenia\", \"Australia\", \"Austria\", \"Azerbaijan\", \"Bahrain\", \"Bangladesh\", \"Barbados\", \"Belarus\", \"Belgium\", \"Bolivia\", \"Bosnia and Herzegovina\", \"Brazil\", \"Canada\", \"Canada:  AB\", \"Canada:  BC\", \"Canada:  MB\", \"Canada:  NB\", \"Canada:  NL\", \"Canada:  NT\", \"Canada:  NS\", \"Canada:  ON\", \"Canada:  PE\", \"Canada:  QC\", \"Canada:  SK\", \"Canada:  YT\", \"Chile\", \"China:  Guangdong\", \"Colombia\", \"Costa Rica\", \"Croatia\", \"Czechia\", \"Denmark\", \"Ecuador\", \"Egypt\", \"Estonia\", \"Finland\", \"France\", \"Germany\", \"Greece\", \"Grenada\", \"Hong Kong\", \"Hungary\", \"Iceland\", \"India\", \"Indonesia\", \"Iran\", \"Ireland\", \"Israel\", \"Italy\", \"Italy:  Emilia-Romagna\", \"Italy:  Liguria\", \"Italy:  Lombardy\", \"Italy:  Marche\", \"Italy:  Piedmont\", \"Italy:  Tuscany\", \"Italy:  Veneto\", \"Jamaica\", \"Japan\", \"Japan:  Tokyo\", \"Kazakhstan\", \"Kosovo\", \"Kyrgyzstan\", \"Latvia\", \"Lithuania\", \"Malaysia\", \"Malta\", \"Mexico\", \"Montenegro\", \"Nepal\", \"Netherlands\", \"New Zealand\", \"North Macedonia\", \"Norway\", \"Pakistan\", \"Palestine\", \"Panama\", \"Peru\", \"Philippines\", \"Poland\", \"Portugal\", \"Romania\", \"Russia\", \"Scotland\", \"Serbia\", \"Singapore\", \"Slovakia\", \"Slovenia\", \"South Africa\", \"South Korea\", \"Spain\", \"Sweden\", \"Switzerland\", \"Taiwan\", \"Thailand\", \"Trinidad and Tobago\", \"Turkey\", \"Ukraine\", \"United Arab Emirates\", \"United Kingdom\", \"United States (unofficial)\", \"United States:  CA\", \"United States:  FL\", \"United States:  IL\", \"United States:  LA\", \"United States:  NY\", \"United States:  NJ\", \"United States:  OK\", \"United States:  MI\", \"United States:  TX\", \"United States:  WA\", \"Uruguay\", \"Venezuela\", \"Vietnam\"], \"y\": [\"304\", \"1,265\", \"736\", \"5,358\", \"11,350\", \"443\", \"668\", \"61\", \"45\", \"362\", \"1,486\", \"97\", \"611\", \"7,910\", \"12,549\", \"1,075\", \"1,174\", \"152\", \"91\", \"135\", \"1\", \"127\", \"2,392\", \"18\", \"6,101\", \"193\", \"5\", \"2,738\", \"\", \"1,267\", \"347\", \"1,011\", \"3,858\", \"3,946\", \"3,368\", \"865\", \"858\", \"1,615\", \"54,627\", \"64,906\", \"1,212\", \"0\", \"682\", \"623\", \"1,364\", \"2,653\", \"1,790\", \"21,638\", \"3,235\", \"6,901\", \"119,827\", \"15,932\", \"3,965\", \"47,520\", \"4,230\", \"10,896\", \"5,499\", \"10,464\", \"44\", \"2,617\", \"684\", \"\", \"132\", \"107\", \"493\", \"696\", \"3,333\", \"139\", \"1,049\", \"174\", \"6\", \"7,705\", \"824\", \"430\", \"5,208\", \"2,450\", \"\", \"1,317\", \"852\", \"3,018\", \"3,149\", \"7,443\", \"3,183\", \"4,149\", \"3,001\", \"1,171\", \"558\", \"450\", \"911\", \"1,380\", \"10,156\", \"24,926\", \"4,435\", \"18,267\", \"348\", \"1,978\", \"90\", \"20,921\", \"942\", \"1024\", \"38,168\", \"271,915\", \"10,701\", \"10,268\", \"8,904\", \"10,297\", \"102,863\", \"29,895\", \"988\", \"12,744\", \"5,330\", \"6,966\", \"189\", \"143\", \"233\"]}, {\"name\": \"positives / 1000\", \"type\": \"bar\", \"x\": [\"Albania\", \"Argentina\", \"Armenia\", \"Australia\", \"Austria\", \"Azerbaijan\", \"Bahrain\", \"Bangladesh\", \"Barbados\", \"Belarus\", \"Belgium\", \"Bolivia\", \"Bosnia and Herzegovina\", \"Brazil\", \"Canada\", \"Canada:  AB\", \"Canada:  BC\", \"Canada:  MB\", \"Canada:  NB\", \"Canada:  NL\", \"Canada:  NT\", \"Canada:  NS\", \"Canada:  ON\", \"Canada:  PE\", \"Canada:  QC\", \"Canada:  SK\", \"Canada:  YT\", \"Chile\", \"China:  Guangdong\", \"Colombia\", \"Costa Rica\", \"Croatia\", \"Czechia\", \"Denmark\", \"Ecuador\", \"Egypt\", \"Estonia\", \"Finland\", \"France\", \"Germany\", \"Greece\", \"Grenada\", \"Hong Kong\", \"Hungary\", \"Iceland\", \"India\", \"Indonesia\", \"Iran\", \"Ireland\", \"Israel\", \"Italy\", \"Italy:  Emilia-Romagna\", \"Italy:  Liguria\", \"Italy:  Lombardy\", \"Italy:  Marche\", \"Italy:  Piedmont\", \"Italy:  Tuscany\", \"Italy:  Veneto\", \"Jamaica\", \"Japan\", \"Japan:  Tokyo\", \"Kazakhstan\", \"Kosovo\", \"Kyrgyzstan\", \"Latvia\", \"Lithuania\", \"Malaysia\", \"Malta\", \"Mexico\", \"Montenegro\", \"Nepal\", \"Netherlands\", \"New Zealand\", \"North Macedonia\", \"Norway\", \"Pakistan\", \"Palestine\", \"Panama\", \"Peru\", \"Philippines\", \"Poland\", \"Portugal\", \"Romania\", \"Russia\", \"Scotland\", \"Serbia\", \"Singapore\", \"Slovakia\", \"Slovenia\", \"South Africa\", \"South Korea\", \"Spain\", \"Sweden\", \"Switzerland\", \"Taiwan\", \"Thailand\", \"Trinidad and Tobago\", \"Turkey\", \"Ukraine\", \"United Arab Emirates\", \"United Kingdom\", \"United States (unofficial)\", \"United States:  CA\", \"United States:  FL\", \"United States:  IL\", \"United States:  LA\", \"United States:  NY\", \"United States:  NJ\", \"United States:  OK\", \"United States:  MI\", \"United States:  TX\", \"United States:  WA\", \"Uruguay\", \"Venezuela\", \"Vietnam\"], \"y\": [\"150\", \"171\", \"184\", \"19\", \"101\", \"15\", \"18\", \"29\", \"118\", \"11\", \"81\", \"164\", \"130\", \"144\", \"41\", \"17\", \"25\", \"13.4\", \"20\", \"63\", \"1.2\", \"25\", \"41\", \"30\", \"73\", \"18\", \"8\", \"78\", \"1.4\", \"60\", \"90\", \"121\", \"57\", \"97\", \"329\", \"35\", \"55\", \"61\", \"244\", \"71\", \"76\", \"0\", \"8\", \"35\", \"61\", \"38\", \"249\", \"270\", \"107\", \"76\", \"193\", \"250\", \"307\", \"352\", \"309\", \"318\", \"124\", \"83\", \"100\", \"66\", \"167\", \"\", \"82\", \"13\", \"27\", \"38\", \"70\", \"31\", \"111\", \"136\", \"5\", \"165\", \"25\", \"95\", \"51\", \"166\", \"\", \"180\", \"67\", \"573\", \"47\", \"143\", \"101\", \"7.2\", \"176\", \"234\", \"14\", \"38\", \"37\", \"31\", \"22\", \"70\", \"120\", \"131\", \"10\", \"84\", \"151\", \"148\", \"214\", \"4.7\", \"220\", \"185\", \"113\", \"107\", \"185\", \"192\", \"395\", \"443\", \"429\", \"335\", \"96\", \"84\", \"123\", \"80\", \"3.2\"]}, {\"name\": \"total tests\", \"type\": \"bar\", \"x\": [\"Albania\", \"Argentina\", \"Armenia\", \"Australia\", \"Austria\", \"Azerbaijan\", \"Bahrain\", \"Bangladesh\", \"Barbados\", \"Belarus\", \"Belgium\", \"Bolivia\", \"Bosnia and Herzegovina\", \"Brazil\", \"Canada\", \"Canada:  AB\", \"Canada:  BC\", \"Canada:  MB\", \"Canada:  NB\", \"Canada:  NL\", \"Canada:  NT\", \"Canada:  NS\", \"Canada:  ON\", \"Canada:  PE\", \"Canada:  QC\", \"Canada:  SK\", \"Canada:  YT\", \"Chile\", \"China:  Guangdong\", \"Colombia\", \"Costa Rica\", \"Croatia\", \"Czechia\", \"Denmark\", \"Ecuador\", \"Egypt\", \"Estonia\", \"Finland\", \"France\", \"Germany\", \"Greece\", \"Grenada\", \"Hong Kong\", \"Hungary\", \"Iceland\", \"India\", \"Indonesia\", \"Iran\", \"Ireland\", \"Israel\", \"Italy\", \"Italy:  Emilia-Romagna\", \"Italy:  Liguria\", \"Italy:  Lombardy\", \"Italy:  Marche\", \"Italy:  Piedmont\", \"Italy:  Tuscany\", \"Italy:  Veneto\", \"Jamaica\", \"Japan\", \"Japan:  Tokyo\", \"Kazakhstan\", \"Kosovo\", \"Kyrgyzstan\", \"Latvia\", \"Lithuania\", \"Malaysia\", \"Malta\", \"Mexico\", \"Montenegro\", \"Nepal\", \"Netherlands\", \"New Zealand\", \"North Macedonia\", \"Norway\", \"Pakistan\", \"Palestine\", \"Panama\", \"Peru\", \"Philippines\", \"Poland\", \"Portugal\", \"Romania\", \"Russia\", \"Scotland\", \"Serbia\", \"Singapore\", \"Slovakia\", \"Slovenia\", \"South Africa\", \"South Korea\", \"Spain\", \"Sweden\", \"Switzerland\", \"Taiwan\", \"Thailand\", \"Trinidad and Tobago\", \"Turkey\", \"Ukraine\", \"United Arab Emirates\", \"United Kingdom\", \"United States (unofficial)\", \"United States:  CA\", \"United States:  FL\", \"United States:  IL\", \"United States:  LA\", \"United States:  NY\", \"United States:  NJ\", \"United States:  OK\", \"United States:  MI\", \"United States:  TX\", \"United States:  WA\", \"Uruguay\", \"Venezuela\", \"Vietnam\"], \"y\": [\"2,031\", \"7,385\", \"3,994\", \"277,355\", \"98,343\", \"30,000\", \"37,996\", \"2,086\", \"382\", \"32,000\", \"18,360\", \"591\", \"4,696\", \"54,824\", \"302,745\", \"61,960\", \"47,352\", \"11,327\", \"4,520\", \"2,333\", \"833\", \"5,172\", \"57,874\", \"608\", \"83,570\", \"10,528\", \"598\", \"35,142\", \"320,000\", \"21,202\", \"3,845\", \"8,352\", \"67,281\", \"40,863\", \"10,317\", \"25,000\", \"15,725\", \"26,500\", \"224,254\", \"918,460\", \"15,961\", \"18\", \"90,000\", \"17,769\", \"22,195\", \"69,245\", \"7,193\", \"80,000\", \"30,213\", \"90,394\", \"619,849\", \"63,682\", \"12,934\", \"135,051\", \"13,678\", \"34,281\", \"44,460\", \"126,490\", \"442\", \"39,446\", \"4,104\", \"5,093\", \"1605\", \"8,186\", \"18,198\", \"18,432\", \"47,723\", \"4,462\", \"9,481\", \"1193\", \"1185\", \"46,810\", \"33,116\", \"4,506\", \"101,986\", \"30,308\", \"2,519\", \"7,333\", \"12,669\", \"5,265\", \"66,938\", \"52,086\", \"31,657\", \"575,000\", \"19,535\", \"5,008\", \"39,000\", \"11,742\", \"24,857\", \"44,292\", \"455,032\", \"355,000\", \"36,900\", \"139,330\", \"34,557\", \"23,669\", \"595\", \"141,716\", \"4,404\", \"220,000\", \"173,784\", \"1,469,251\", \"94,800*\", \"95,835\", \"48,048\", \"53,645\", \"260,520\", \"67,503\", \"2,303\", \"37,992\", \"55,764\", \"82,599\", \"1,538\", \"1,779\", \"73,164\"]}],\n",
              "                        {\"barmode\": \"stack\", \"height\": 600, \"template\": {\"data\": {\"bar\": [{\"error_x\": {\"color\": \"#2a3f5f\"}, \"error_y\": {\"color\": \"#2a3f5f\"}, \"marker\": {\"line\": {\"color\": \"#E5ECF6\", \"width\": 0.5}}, \"type\": \"bar\"}], \"barpolar\": [{\"marker\": {\"line\": {\"color\": \"#E5ECF6\", \"width\": 0.5}}, \"type\": \"barpolar\"}], \"carpet\": [{\"aaxis\": {\"endlinecolor\": \"#2a3f5f\", \"gridcolor\": \"white\", \"linecolor\": \"white\", \"minorgridcolor\": \"white\", \"startlinecolor\": \"#2a3f5f\"}, \"baxis\": {\"endlinecolor\": \"#2a3f5f\", \"gridcolor\": \"white\", \"linecolor\": \"white\", \"minorgridcolor\": \"white\", \"startlinecolor\": \"#2a3f5f\"}, \"type\": \"carpet\"}], \"choropleth\": [{\"colorbar\": {\"outlinewidth\": 0, \"ticks\": \"\"}, \"type\": \"choropleth\"}], \"contour\": [{\"colorbar\": {\"outlinewidth\": 0, \"ticks\": \"\"}, \"colorscale\": [[0.0, \"#0d0887\"], [0.1111111111111111, \"#46039f\"], [0.2222222222222222, \"#7201a8\"], [0.3333333333333333, \"#9c179e\"], [0.4444444444444444, \"#bd3786\"], [0.5555555555555556, \"#d8576b\"], [0.6666666666666666, \"#ed7953\"], [0.7777777777777778, \"#fb9f3a\"], [0.8888888888888888, \"#fdca26\"], [1.0, \"#f0f921\"]], \"type\": \"contour\"}], \"contourcarpet\": [{\"colorbar\": {\"outlinewidth\": 0, \"ticks\": \"\"}, \"type\": \"contourcarpet\"}], \"heatmap\": [{\"colorbar\": {\"outlinewidth\": 0, \"ticks\": \"\"}, \"colorscale\": [[0.0, \"#0d0887\"], [0.1111111111111111, \"#46039f\"], [0.2222222222222222, \"#7201a8\"], [0.3333333333333333, \"#9c179e\"], [0.4444444444444444, \"#bd3786\"], [0.5555555555555556, \"#d8576b\"], [0.6666666666666666, \"#ed7953\"], [0.7777777777777778, \"#fb9f3a\"], [0.8888888888888888, \"#fdca26\"], [1.0, \"#f0f921\"]], \"type\": \"heatmap\"}], \"heatmapgl\": [{\"colorbar\": {\"outlinewidth\": 0, \"ticks\": \"\"}, \"colorscale\": [[0.0, \"#0d0887\"], [0.1111111111111111, \"#46039f\"], [0.2222222222222222, \"#7201a8\"], [0.3333333333333333, \"#9c179e\"], [0.4444444444444444, \"#bd3786\"], [0.5555555555555556, \"#d8576b\"], [0.6666666666666666, \"#ed7953\"], [0.7777777777777778, \"#fb9f3a\"], [0.8888888888888888, \"#fdca26\"], [1.0, \"#f0f921\"]], \"type\": \"heatmapgl\"}], \"histogram\": [{\"marker\": {\"colorbar\": {\"outlinewidth\": 0, \"ticks\": \"\"}}, \"type\": \"histogram\"}], \"histogram2d\": [{\"colorbar\": {\"outlinewidth\": 0, \"ticks\": \"\"}, \"colorscale\": [[0.0, \"#0d0887\"], [0.1111111111111111, \"#46039f\"], [0.2222222222222222, \"#7201a8\"], [0.3333333333333333, \"#9c179e\"], [0.4444444444444444, \"#bd3786\"], [0.5555555555555556, \"#d8576b\"], [0.6666666666666666, \"#ed7953\"], [0.7777777777777778, \"#fb9f3a\"], [0.8888888888888888, \"#fdca26\"], [1.0, \"#f0f921\"]], \"type\": \"histogram2d\"}], \"histogram2dcontour\": [{\"colorbar\": {\"outlinewidth\": 0, \"ticks\": \"\"}, \"colorscale\": [[0.0, \"#0d0887\"], [0.1111111111111111, \"#46039f\"], [0.2222222222222222, \"#7201a8\"], [0.3333333333333333, \"#9c179e\"], [0.4444444444444444, \"#bd3786\"], [0.5555555555555556, \"#d8576b\"], [0.6666666666666666, \"#ed7953\"], [0.7777777777777778, \"#fb9f3a\"], [0.8888888888888888, \"#fdca26\"], [1.0, \"#f0f921\"]], \"type\": \"histogram2dcontour\"}], \"mesh3d\": [{\"colorbar\": {\"outlinewidth\": 0, \"ticks\": \"\"}, \"type\": \"mesh3d\"}], \"parcoords\": [{\"line\": {\"colorbar\": {\"outlinewidth\": 0, \"ticks\": \"\"}}, \"type\": \"parcoords\"}], \"pie\": [{\"automargin\": true, \"type\": \"pie\"}], \"scatter\": [{\"marker\": {\"colorbar\": {\"outlinewidth\": 0, \"ticks\": \"\"}}, \"type\": \"scatter\"}], \"scatter3d\": [{\"line\": {\"colorbar\": {\"outlinewidth\": 0, \"ticks\": \"\"}}, \"marker\": {\"colorbar\": {\"outlinewidth\": 0, \"ticks\": \"\"}}, \"type\": \"scatter3d\"}], \"scattercarpet\": [{\"marker\": {\"colorbar\": {\"outlinewidth\": 0, \"ticks\": \"\"}}, \"type\": \"scattercarpet\"}], \"scattergeo\": [{\"marker\": {\"colorbar\": {\"outlinewidth\": 0, \"ticks\": \"\"}}, \"type\": \"scattergeo\"}], \"scattergl\": [{\"marker\": {\"colorbar\": {\"outlinewidth\": 0, \"ticks\": \"\"}}, \"type\": \"scattergl\"}], \"scattermapbox\": [{\"marker\": {\"colorbar\": {\"outlinewidth\": 0, \"ticks\": \"\"}}, \"type\": \"scattermapbox\"}], \"scatterpolar\": [{\"marker\": {\"colorbar\": {\"outlinewidth\": 0, \"ticks\": \"\"}}, \"type\": \"scatterpolar\"}], \"scatterpolargl\": [{\"marker\": {\"colorbar\": {\"outlinewidth\": 0, \"ticks\": \"\"}}, \"type\": \"scatterpolargl\"}], \"scatterternary\": [{\"marker\": {\"colorbar\": {\"outlinewidth\": 0, \"ticks\": \"\"}}, \"type\": \"scatterternary\"}], \"surface\": [{\"colorbar\": {\"outlinewidth\": 0, \"ticks\": \"\"}, \"colorscale\": [[0.0, \"#0d0887\"], [0.1111111111111111, \"#46039f\"], [0.2222222222222222, \"#7201a8\"], [0.3333333333333333, \"#9c179e\"], [0.4444444444444444, \"#bd3786\"], [0.5555555555555556, \"#d8576b\"], [0.6666666666666666, \"#ed7953\"], [0.7777777777777778, \"#fb9f3a\"], [0.8888888888888888, \"#fdca26\"], [1.0, \"#f0f921\"]], \"type\": \"surface\"}], \"table\": [{\"cells\": {\"fill\": {\"color\": \"#EBF0F8\"}, \"line\": {\"color\": \"white\"}}, \"header\": {\"fill\": {\"color\": \"#C8D4E3\"}, \"line\": {\"color\": \"white\"}}, \"type\": \"table\"}]}, \"layout\": {\"annotationdefaults\": {\"arrowcolor\": \"#2a3f5f\", \"arrowhead\": 0, \"arrowwidth\": 1}, \"coloraxis\": {\"colorbar\": {\"outlinewidth\": 0, \"ticks\": \"\"}}, \"colorscale\": {\"diverging\": [[0, \"#8e0152\"], [0.1, \"#c51b7d\"], [0.2, \"#de77ae\"], [0.3, \"#f1b6da\"], [0.4, \"#fde0ef\"], [0.5, \"#f7f7f7\"], [0.6, \"#e6f5d0\"], [0.7, \"#b8e186\"], [0.8, \"#7fbc41\"], [0.9, \"#4d9221\"], [1, \"#276419\"]], \"sequential\": [[0.0, \"#0d0887\"], [0.1111111111111111, \"#46039f\"], [0.2222222222222222, \"#7201a8\"], [0.3333333333333333, \"#9c179e\"], [0.4444444444444444, \"#bd3786\"], [0.5555555555555556, \"#d8576b\"], [0.6666666666666666, \"#ed7953\"], [0.7777777777777778, \"#fb9f3a\"], [0.8888888888888888, \"#fdca26\"], [1.0, \"#f0f921\"]], \"sequentialminus\": [[0.0, \"#0d0887\"], [0.1111111111111111, \"#46039f\"], [0.2222222222222222, \"#7201a8\"], [0.3333333333333333, \"#9c179e\"], [0.4444444444444444, \"#bd3786\"], [0.5555555555555556, \"#d8576b\"], [0.6666666666666666, \"#ed7953\"], [0.7777777777777778, \"#fb9f3a\"], [0.8888888888888888, \"#fdca26\"], [1.0, \"#f0f921\"]]}, \"colorway\": [\"#636efa\", \"#EF553B\", \"#00cc96\", \"#ab63fa\", \"#FFA15A\", \"#19d3f3\", \"#FF6692\", \"#B6E880\", \"#FF97FF\", \"#FECB52\"], \"font\": {\"color\": \"#2a3f5f\"}, \"geo\": {\"bgcolor\": \"white\", \"lakecolor\": \"white\", \"landcolor\": \"#E5ECF6\", \"showlakes\": true, \"showland\": true, \"subunitcolor\": \"white\"}, \"hoverlabel\": {\"align\": \"left\"}, \"hovermode\": \"closest\", \"mapbox\": {\"style\": \"light\"}, \"paper_bgcolor\": \"white\", \"plot_bgcolor\": \"#E5ECF6\", \"polar\": {\"angularaxis\": {\"gridcolor\": \"white\", \"linecolor\": \"white\", \"ticks\": \"\"}, \"bgcolor\": \"#E5ECF6\", \"radialaxis\": {\"gridcolor\": \"white\", \"linecolor\": \"white\", \"ticks\": \"\"}}, \"scene\": {\"xaxis\": {\"backgroundcolor\": \"#E5ECF6\", \"gridcolor\": \"white\", \"gridwidth\": 2, \"linecolor\": \"white\", \"showbackground\": true, \"ticks\": \"\", \"zerolinecolor\": \"white\"}, \"yaxis\": {\"backgroundcolor\": \"#E5ECF6\", \"gridcolor\": \"white\", \"gridwidth\": 2, \"linecolor\": \"white\", \"showbackground\": true, \"ticks\": \"\", \"zerolinecolor\": \"white\"}, \"zaxis\": {\"backgroundcolor\": \"#E5ECF6\", \"gridcolor\": \"white\", \"gridwidth\": 2, \"linecolor\": \"white\", \"showbackground\": true, \"ticks\": \"\", \"zerolinecolor\": \"white\"}}, \"shapedefaults\": {\"line\": {\"color\": \"#2a3f5f\"}}, \"ternary\": {\"aaxis\": {\"gridcolor\": \"white\", \"linecolor\": \"white\", \"ticks\": \"\"}, \"baxis\": {\"gridcolor\": \"white\", \"linecolor\": \"white\", \"ticks\": \"\"}, \"bgcolor\": \"#E5ECF6\", \"caxis\": {\"gridcolor\": \"white\", \"linecolor\": \"white\", \"ticks\": \"\"}}, \"title\": {\"x\": 0.05}, \"xaxis\": {\"automargin\": true, \"gridcolor\": \"white\", \"linecolor\": \"white\", \"ticks\": \"\", \"title\": {\"standoff\": 15}, \"zerolinecolor\": \"white\", \"zerolinewidth\": 2}, \"yaxis\": {\"automargin\": true, \"gridcolor\": \"white\", \"linecolor\": \"white\", \"ticks\": \"\", \"title\": {\"standoff\": 15}, \"zerolinecolor\": \"white\", \"zerolinewidth\": 2}}}, \"xaxis\": {\"categoryorder\": \"category ascending\"}},\n",
              "                        {\"responsive\": true}\n",
              "                    ).then(function(){\n",
              "                            \n",
              "var gd = document.getElementById('005e6115-6cc3-415a-97be-531e2351bae3');\n",
              "var x = new MutationObserver(function (mutations, observer) {{\n",
              "        var display = window.getComputedStyle(gd).display;\n",
              "        if (!display || display === 'none') {{\n",
              "            console.log([gd, 'removed!']);\n",
              "            Plotly.purge(gd);\n",
              "            observer.disconnect();\n",
              "        }}\n",
              "}});\n",
              "\n",
              "// Listen for the removal of the full notebook cells\n",
              "var notebookContainer = gd.closest('#notebook-container');\n",
              "if (notebookContainer) {{\n",
              "    x.observe(notebookContainer, {childList: true});\n",
              "}}\n",
              "\n",
              "// Listen for the clearing of the current output cell\n",
              "var outputEl = gd.closest('.output');\n",
              "if (outputEl) {{\n",
              "    x.observe(outputEl, {childList: true});\n",
              "}}\n",
              "\n",
              "                        })\n",
              "                };\n",
              "                \n",
              "            </script>\n",
              "        </div>\n",
              "</body>\n",
              "</html>"
            ]
          },
          "metadata": {
            "tags": []
          }
        }
      ]
    },
    {
      "cell_type": "code",
      "metadata": {
        "id": "Qa1BrVD5mSq-",
        "colab_type": "code",
        "colab": {}
      },
      "source": [
        "## Veamos menos países, algunos relevantes"
      ],
      "execution_count": 0,
      "outputs": []
    },
    {
      "cell_type": "code",
      "metadata": {
        "id": "j2FlcrR0mSrC",
        "colab_type": "code",
        "colab": {
          "base_uri": "https://localhost:8080/",
          "height": 1000
        },
        "outputId": "8689cba2-7424-494e-c138-283487911d03"
      },
      "source": [
        "tests_df_filter_countries = tests_df[(tests_df['country'] == 'Argentina') | (tests_df['country'] == 'Germany' ) | (tests_df['country'] == 'Italy') | (tests_df['country'] == 'Australia')  ]\n",
        "x = tests_df_filter_countries['country']\n",
        "fig = go.Figure(go.Bar(x=x, y=tests_df_filter_countries['positive'], name='positives'))\n",
        "\n",
        "fig.add_trace(go.Bar(x=x, y=tests_df_filter_countries['positiveperthousand'], name='positives / 1000'))\n",
        "fig.add_trace(go.Bar(x=x, y=tests_df_filter_countries['tests'], name='total tests'))\n",
        "\n",
        "fig.update_layout(barmode='stack', xaxis={'categoryorder':'category ascending'}, height=1000)\n",
        "fig.show()"
      ],
      "execution_count": 30,
      "outputs": [
        {
          "output_type": "display_data",
          "data": {
            "text/html": [
              "<html>\n",
              "<head><meta charset=\"utf-8\" /></head>\n",
              "<body>\n",
              "    <div>\n",
              "            <script src=\"https://cdnjs.cloudflare.com/ajax/libs/mathjax/2.7.5/MathJax.js?config=TeX-AMS-MML_SVG\"></script><script type=\"text/javascript\">if (window.MathJax) {MathJax.Hub.Config({SVG: {font: \"STIX-Web\"}});}</script>\n",
              "                <script type=\"text/javascript\">window.PlotlyConfig = {MathJaxConfig: 'local'};</script>\n",
              "        <script src=\"https://cdn.plot.ly/plotly-latest.min.js\"></script>    \n",
              "            <div id=\"18092fdc-0e16-4273-a3d8-733602717c11\" class=\"plotly-graph-div\" style=\"height:1000px; width:100%;\"></div>\n",
              "            <script type=\"text/javascript\">\n",
              "                \n",
              "                    window.PLOTLYENV=window.PLOTLYENV || {};\n",
              "                    \n",
              "                if (document.getElementById(\"18092fdc-0e16-4273-a3d8-733602717c11\")) {\n",
              "                    Plotly.newPlot(\n",
              "                        '18092fdc-0e16-4273-a3d8-733602717c11',\n",
              "                        [{\"name\": \"positives\", \"type\": \"bar\", \"x\": [\"Argentina\", \"Australia\", \"Germany\", \"Italy\"], \"y\": [\"1,265\", \"5,358\", \"64,906\", \"119,827\"]}, {\"name\": \"positives / 1000\", \"type\": \"bar\", \"x\": [\"Argentina\", \"Australia\", \"Germany\", \"Italy\"], \"y\": [\"171\", \"19\", \"71\", \"193\"]}, {\"name\": \"total tests\", \"type\": \"bar\", \"x\": [\"Argentina\", \"Australia\", \"Germany\", \"Italy\"], \"y\": [\"7,385\", \"277,355\", \"918,460\", \"619,849\"]}],\n",
              "                        {\"barmode\": \"stack\", \"height\": 1000, \"template\": {\"data\": {\"bar\": [{\"error_x\": {\"color\": \"#2a3f5f\"}, \"error_y\": {\"color\": \"#2a3f5f\"}, \"marker\": {\"line\": {\"color\": \"#E5ECF6\", \"width\": 0.5}}, \"type\": \"bar\"}], \"barpolar\": [{\"marker\": {\"line\": {\"color\": \"#E5ECF6\", \"width\": 0.5}}, \"type\": \"barpolar\"}], \"carpet\": [{\"aaxis\": {\"endlinecolor\": \"#2a3f5f\", \"gridcolor\": \"white\", \"linecolor\": \"white\", \"minorgridcolor\": \"white\", \"startlinecolor\": \"#2a3f5f\"}, \"baxis\": {\"endlinecolor\": \"#2a3f5f\", \"gridcolor\": \"white\", \"linecolor\": \"white\", \"minorgridcolor\": \"white\", \"startlinecolor\": \"#2a3f5f\"}, \"type\": \"carpet\"}], \"choropleth\": [{\"colorbar\": {\"outlinewidth\": 0, \"ticks\": \"\"}, \"type\": \"choropleth\"}], \"contour\": [{\"colorbar\": {\"outlinewidth\": 0, \"ticks\": \"\"}, \"colorscale\": [[0.0, \"#0d0887\"], [0.1111111111111111, \"#46039f\"], [0.2222222222222222, \"#7201a8\"], [0.3333333333333333, \"#9c179e\"], [0.4444444444444444, \"#bd3786\"], [0.5555555555555556, \"#d8576b\"], [0.6666666666666666, \"#ed7953\"], [0.7777777777777778, \"#fb9f3a\"], [0.8888888888888888, \"#fdca26\"], [1.0, \"#f0f921\"]], \"type\": \"contour\"}], \"contourcarpet\": [{\"colorbar\": {\"outlinewidth\": 0, \"ticks\": \"\"}, \"type\": \"contourcarpet\"}], \"heatmap\": [{\"colorbar\": {\"outlinewidth\": 0, \"ticks\": \"\"}, \"colorscale\": [[0.0, \"#0d0887\"], [0.1111111111111111, \"#46039f\"], [0.2222222222222222, \"#7201a8\"], [0.3333333333333333, \"#9c179e\"], [0.4444444444444444, \"#bd3786\"], [0.5555555555555556, \"#d8576b\"], [0.6666666666666666, \"#ed7953\"], [0.7777777777777778, \"#fb9f3a\"], [0.8888888888888888, \"#fdca26\"], [1.0, \"#f0f921\"]], \"type\": \"heatmap\"}], \"heatmapgl\": [{\"colorbar\": {\"outlinewidth\": 0, \"ticks\": \"\"}, \"colorscale\": [[0.0, \"#0d0887\"], [0.1111111111111111, \"#46039f\"], [0.2222222222222222, \"#7201a8\"], [0.3333333333333333, \"#9c179e\"], [0.4444444444444444, \"#bd3786\"], [0.5555555555555556, \"#d8576b\"], [0.6666666666666666, \"#ed7953\"], [0.7777777777777778, \"#fb9f3a\"], [0.8888888888888888, \"#fdca26\"], [1.0, \"#f0f921\"]], \"type\": \"heatmapgl\"}], \"histogram\": [{\"marker\": {\"colorbar\": {\"outlinewidth\": 0, \"ticks\": \"\"}}, \"type\": \"histogram\"}], \"histogram2d\": [{\"colorbar\": {\"outlinewidth\": 0, \"ticks\": \"\"}, \"colorscale\": [[0.0, \"#0d0887\"], [0.1111111111111111, \"#46039f\"], [0.2222222222222222, \"#7201a8\"], [0.3333333333333333, \"#9c179e\"], [0.4444444444444444, \"#bd3786\"], [0.5555555555555556, \"#d8576b\"], [0.6666666666666666, \"#ed7953\"], [0.7777777777777778, \"#fb9f3a\"], [0.8888888888888888, \"#fdca26\"], [1.0, \"#f0f921\"]], \"type\": \"histogram2d\"}], \"histogram2dcontour\": [{\"colorbar\": {\"outlinewidth\": 0, \"ticks\": \"\"}, \"colorscale\": [[0.0, \"#0d0887\"], [0.1111111111111111, \"#46039f\"], [0.2222222222222222, \"#7201a8\"], [0.3333333333333333, \"#9c179e\"], [0.4444444444444444, \"#bd3786\"], [0.5555555555555556, \"#d8576b\"], [0.6666666666666666, \"#ed7953\"], [0.7777777777777778, \"#fb9f3a\"], [0.8888888888888888, \"#fdca26\"], [1.0, \"#f0f921\"]], \"type\": \"histogram2dcontour\"}], \"mesh3d\": [{\"colorbar\": {\"outlinewidth\": 0, \"ticks\": \"\"}, \"type\": \"mesh3d\"}], \"parcoords\": [{\"line\": {\"colorbar\": {\"outlinewidth\": 0, \"ticks\": \"\"}}, \"type\": \"parcoords\"}], \"pie\": [{\"automargin\": true, \"type\": \"pie\"}], \"scatter\": [{\"marker\": {\"colorbar\": {\"outlinewidth\": 0, \"ticks\": \"\"}}, \"type\": \"scatter\"}], \"scatter3d\": [{\"line\": {\"colorbar\": {\"outlinewidth\": 0, \"ticks\": \"\"}}, \"marker\": {\"colorbar\": {\"outlinewidth\": 0, \"ticks\": \"\"}}, \"type\": \"scatter3d\"}], \"scattercarpet\": [{\"marker\": {\"colorbar\": {\"outlinewidth\": 0, \"ticks\": \"\"}}, \"type\": \"scattercarpet\"}], \"scattergeo\": [{\"marker\": {\"colorbar\": {\"outlinewidth\": 0, \"ticks\": \"\"}}, \"type\": \"scattergeo\"}], \"scattergl\": [{\"marker\": {\"colorbar\": {\"outlinewidth\": 0, \"ticks\": \"\"}}, \"type\": \"scattergl\"}], \"scattermapbox\": [{\"marker\": {\"colorbar\": {\"outlinewidth\": 0, \"ticks\": \"\"}}, \"type\": \"scattermapbox\"}], \"scatterpolar\": [{\"marker\": {\"colorbar\": {\"outlinewidth\": 0, \"ticks\": \"\"}}, \"type\": \"scatterpolar\"}], \"scatterpolargl\": [{\"marker\": {\"colorbar\": {\"outlinewidth\": 0, \"ticks\": \"\"}}, \"type\": \"scatterpolargl\"}], \"scatterternary\": [{\"marker\": {\"colorbar\": {\"outlinewidth\": 0, \"ticks\": \"\"}}, \"type\": \"scatterternary\"}], \"surface\": [{\"colorbar\": {\"outlinewidth\": 0, \"ticks\": \"\"}, \"colorscale\": [[0.0, \"#0d0887\"], [0.1111111111111111, \"#46039f\"], [0.2222222222222222, \"#7201a8\"], [0.3333333333333333, \"#9c179e\"], [0.4444444444444444, \"#bd3786\"], [0.5555555555555556, \"#d8576b\"], [0.6666666666666666, \"#ed7953\"], [0.7777777777777778, \"#fb9f3a\"], [0.8888888888888888, \"#fdca26\"], [1.0, \"#f0f921\"]], \"type\": \"surface\"}], \"table\": [{\"cells\": {\"fill\": {\"color\": \"#EBF0F8\"}, \"line\": {\"color\": \"white\"}}, \"header\": {\"fill\": {\"color\": \"#C8D4E3\"}, \"line\": {\"color\": \"white\"}}, \"type\": \"table\"}]}, \"layout\": {\"annotationdefaults\": {\"arrowcolor\": \"#2a3f5f\", \"arrowhead\": 0, \"arrowwidth\": 1}, \"coloraxis\": {\"colorbar\": {\"outlinewidth\": 0, \"ticks\": \"\"}}, \"colorscale\": {\"diverging\": [[0, \"#8e0152\"], [0.1, \"#c51b7d\"], [0.2, \"#de77ae\"], [0.3, \"#f1b6da\"], [0.4, \"#fde0ef\"], [0.5, \"#f7f7f7\"], [0.6, \"#e6f5d0\"], [0.7, \"#b8e186\"], [0.8, \"#7fbc41\"], [0.9, \"#4d9221\"], [1, \"#276419\"]], \"sequential\": [[0.0, \"#0d0887\"], [0.1111111111111111, \"#46039f\"], [0.2222222222222222, \"#7201a8\"], [0.3333333333333333, \"#9c179e\"], [0.4444444444444444, \"#bd3786\"], [0.5555555555555556, \"#d8576b\"], [0.6666666666666666, \"#ed7953\"], [0.7777777777777778, \"#fb9f3a\"], [0.8888888888888888, \"#fdca26\"], [1.0, \"#f0f921\"]], \"sequentialminus\": [[0.0, \"#0d0887\"], [0.1111111111111111, \"#46039f\"], [0.2222222222222222, \"#7201a8\"], [0.3333333333333333, \"#9c179e\"], [0.4444444444444444, \"#bd3786\"], [0.5555555555555556, \"#d8576b\"], [0.6666666666666666, \"#ed7953\"], [0.7777777777777778, \"#fb9f3a\"], [0.8888888888888888, \"#fdca26\"], [1.0, \"#f0f921\"]]}, \"colorway\": [\"#636efa\", \"#EF553B\", \"#00cc96\", \"#ab63fa\", \"#FFA15A\", \"#19d3f3\", \"#FF6692\", \"#B6E880\", \"#FF97FF\", \"#FECB52\"], \"font\": {\"color\": \"#2a3f5f\"}, \"geo\": {\"bgcolor\": \"white\", \"lakecolor\": \"white\", \"landcolor\": \"#E5ECF6\", \"showlakes\": true, \"showland\": true, \"subunitcolor\": \"white\"}, \"hoverlabel\": {\"align\": \"left\"}, \"hovermode\": \"closest\", \"mapbox\": {\"style\": \"light\"}, \"paper_bgcolor\": \"white\", \"plot_bgcolor\": \"#E5ECF6\", \"polar\": {\"angularaxis\": {\"gridcolor\": \"white\", \"linecolor\": \"white\", \"ticks\": \"\"}, \"bgcolor\": \"#E5ECF6\", \"radialaxis\": {\"gridcolor\": \"white\", \"linecolor\": \"white\", \"ticks\": \"\"}}, \"scene\": {\"xaxis\": {\"backgroundcolor\": \"#E5ECF6\", \"gridcolor\": \"white\", \"gridwidth\": 2, \"linecolor\": \"white\", \"showbackground\": true, \"ticks\": \"\", \"zerolinecolor\": \"white\"}, \"yaxis\": {\"backgroundcolor\": \"#E5ECF6\", \"gridcolor\": \"white\", \"gridwidth\": 2, \"linecolor\": \"white\", \"showbackground\": true, \"ticks\": \"\", \"zerolinecolor\": \"white\"}, \"zaxis\": {\"backgroundcolor\": \"#E5ECF6\", \"gridcolor\": \"white\", \"gridwidth\": 2, \"linecolor\": \"white\", \"showbackground\": true, \"ticks\": \"\", \"zerolinecolor\": \"white\"}}, \"shapedefaults\": {\"line\": {\"color\": \"#2a3f5f\"}}, \"ternary\": {\"aaxis\": {\"gridcolor\": \"white\", \"linecolor\": \"white\", \"ticks\": \"\"}, \"baxis\": {\"gridcolor\": \"white\", \"linecolor\": \"white\", \"ticks\": \"\"}, \"bgcolor\": \"#E5ECF6\", \"caxis\": {\"gridcolor\": \"white\", \"linecolor\": \"white\", \"ticks\": \"\"}}, \"title\": {\"x\": 0.05}, \"xaxis\": {\"automargin\": true, \"gridcolor\": \"white\", \"linecolor\": \"white\", \"ticks\": \"\", \"title\": {\"standoff\": 15}, \"zerolinecolor\": \"white\", \"zerolinewidth\": 2}, \"yaxis\": {\"automargin\": true, \"gridcolor\": \"white\", \"linecolor\": \"white\", \"ticks\": \"\", \"title\": {\"standoff\": 15}, \"zerolinecolor\": \"white\", \"zerolinewidth\": 2}}}, \"xaxis\": {\"categoryorder\": \"category ascending\"}},\n",
              "                        {\"responsive\": true}\n",
              "                    ).then(function(){\n",
              "                            \n",
              "var gd = document.getElementById('18092fdc-0e16-4273-a3d8-733602717c11');\n",
              "var x = new MutationObserver(function (mutations, observer) {{\n",
              "        var display = window.getComputedStyle(gd).display;\n",
              "        if (!display || display === 'none') {{\n",
              "            console.log([gd, 'removed!']);\n",
              "            Plotly.purge(gd);\n",
              "            observer.disconnect();\n",
              "        }}\n",
              "}});\n",
              "\n",
              "// Listen for the removal of the full notebook cells\n",
              "var notebookContainer = gd.closest('#notebook-container');\n",
              "if (notebookContainer) {{\n",
              "    x.observe(notebookContainer, {childList: true});\n",
              "}}\n",
              "\n",
              "// Listen for the clearing of the current output cell\n",
              "var outputEl = gd.closest('.output');\n",
              "if (outputEl) {{\n",
              "    x.observe(outputEl, {childList: true});\n",
              "}}\n",
              "\n",
              "                        })\n",
              "                };\n",
              "                \n",
              "            </script>\n",
              "        </div>\n",
              "</body>\n",
              "</html>"
            ]
          },
          "metadata": {
            "tags": []
          }
        }
      ]
    },
    {
      "cell_type": "code",
      "metadata": {
        "id": "kGJ5DCHiP3v8",
        "colab_type": "code",
        "colab": {
          "base_uri": "https://localhost:8080/",
          "height": 1000
        },
        "outputId": "4b84a114-01b1-4592-a763-08b911adee7f"
      },
      "source": [
        "tests_df_filter_countries = tests_df[(tests_df['country'] == 'Argentina') | (tests_df['country'] == 'Canada' ) | (tests_df['country'] == 'France')  ]\n",
        "x = tests_df_filter_countries['country']\n",
        "fig = go.Figure(go.Bar(x=x, y=tests_df_filter_countries['positive'], name='positives'))\n",
        "\n",
        "fig.add_trace(go.Bar(x=x, y=tests_df_filter_countries['positiveperthousand'], name='positives / 1000'))\n",
        "fig.add_trace(go.Bar(x=x, y=tests_df_filter_countries['tests'], name='total tests'))\n",
        "\n",
        "fig.update_layout(barmode='stack', xaxis={'categoryorder':'category ascending'}, height=1000)"
      ],
      "execution_count": 32,
      "outputs": [
        {
          "output_type": "display_data",
          "data": {
            "text/html": [
              "<html>\n",
              "<head><meta charset=\"utf-8\" /></head>\n",
              "<body>\n",
              "    <div>\n",
              "            <script src=\"https://cdnjs.cloudflare.com/ajax/libs/mathjax/2.7.5/MathJax.js?config=TeX-AMS-MML_SVG\"></script><script type=\"text/javascript\">if (window.MathJax) {MathJax.Hub.Config({SVG: {font: \"STIX-Web\"}});}</script>\n",
              "                <script type=\"text/javascript\">window.PlotlyConfig = {MathJaxConfig: 'local'};</script>\n",
              "        <script src=\"https://cdn.plot.ly/plotly-latest.min.js\"></script>    \n",
              "            <div id=\"67600419-793b-4a19-8681-f7a028f1f312\" class=\"plotly-graph-div\" style=\"height:1000px; width:100%;\"></div>\n",
              "            <script type=\"text/javascript\">\n",
              "                \n",
              "                    window.PLOTLYENV=window.PLOTLYENV || {};\n",
              "                    \n",
              "                if (document.getElementById(\"67600419-793b-4a19-8681-f7a028f1f312\")) {\n",
              "                    Plotly.newPlot(\n",
              "                        '67600419-793b-4a19-8681-f7a028f1f312',\n",
              "                        [{\"name\": \"positives\", \"type\": \"bar\", \"x\": [\"Argentina\", \"Canada\", \"France\"], \"y\": [\"1,265\", \"12,549\", \"54,627\"]}, {\"name\": \"positives / 1000\", \"type\": \"bar\", \"x\": [\"Argentina\", \"Canada\", \"France\"], \"y\": [\"171\", \"41\", \"244\"]}, {\"name\": \"total tests\", \"type\": \"bar\", \"x\": [\"Argentina\", \"Canada\", \"France\"], \"y\": [\"7,385\", \"302,745\", \"224,254\"]}],\n",
              "                        {\"barmode\": \"stack\", \"height\": 1000, \"template\": {\"data\": {\"bar\": [{\"error_x\": {\"color\": \"#2a3f5f\"}, \"error_y\": {\"color\": \"#2a3f5f\"}, \"marker\": {\"line\": {\"color\": \"#E5ECF6\", \"width\": 0.5}}, \"type\": \"bar\"}], \"barpolar\": [{\"marker\": {\"line\": {\"color\": \"#E5ECF6\", \"width\": 0.5}}, \"type\": \"barpolar\"}], \"carpet\": [{\"aaxis\": {\"endlinecolor\": \"#2a3f5f\", \"gridcolor\": \"white\", \"linecolor\": \"white\", \"minorgridcolor\": \"white\", \"startlinecolor\": \"#2a3f5f\"}, \"baxis\": {\"endlinecolor\": \"#2a3f5f\", \"gridcolor\": \"white\", \"linecolor\": \"white\", \"minorgridcolor\": \"white\", \"startlinecolor\": \"#2a3f5f\"}, \"type\": \"carpet\"}], \"choropleth\": [{\"colorbar\": {\"outlinewidth\": 0, \"ticks\": \"\"}, \"type\": \"choropleth\"}], \"contour\": [{\"colorbar\": {\"outlinewidth\": 0, \"ticks\": \"\"}, \"colorscale\": [[0.0, \"#0d0887\"], [0.1111111111111111, \"#46039f\"], [0.2222222222222222, \"#7201a8\"], [0.3333333333333333, \"#9c179e\"], [0.4444444444444444, \"#bd3786\"], [0.5555555555555556, \"#d8576b\"], [0.6666666666666666, \"#ed7953\"], [0.7777777777777778, \"#fb9f3a\"], [0.8888888888888888, \"#fdca26\"], [1.0, \"#f0f921\"]], \"type\": \"contour\"}], \"contourcarpet\": [{\"colorbar\": {\"outlinewidth\": 0, \"ticks\": \"\"}, \"type\": \"contourcarpet\"}], \"heatmap\": [{\"colorbar\": {\"outlinewidth\": 0, \"ticks\": \"\"}, \"colorscale\": [[0.0, \"#0d0887\"], [0.1111111111111111, \"#46039f\"], [0.2222222222222222, \"#7201a8\"], [0.3333333333333333, \"#9c179e\"], [0.4444444444444444, \"#bd3786\"], [0.5555555555555556, \"#d8576b\"], [0.6666666666666666, \"#ed7953\"], [0.7777777777777778, \"#fb9f3a\"], [0.8888888888888888, \"#fdca26\"], [1.0, \"#f0f921\"]], \"type\": \"heatmap\"}], \"heatmapgl\": [{\"colorbar\": {\"outlinewidth\": 0, \"ticks\": \"\"}, \"colorscale\": [[0.0, \"#0d0887\"], [0.1111111111111111, \"#46039f\"], [0.2222222222222222, \"#7201a8\"], [0.3333333333333333, \"#9c179e\"], [0.4444444444444444, \"#bd3786\"], [0.5555555555555556, \"#d8576b\"], [0.6666666666666666, \"#ed7953\"], [0.7777777777777778, \"#fb9f3a\"], [0.8888888888888888, \"#fdca26\"], [1.0, \"#f0f921\"]], \"type\": \"heatmapgl\"}], \"histogram\": [{\"marker\": {\"colorbar\": {\"outlinewidth\": 0, \"ticks\": \"\"}}, \"type\": \"histogram\"}], \"histogram2d\": [{\"colorbar\": {\"outlinewidth\": 0, \"ticks\": \"\"}, \"colorscale\": [[0.0, \"#0d0887\"], [0.1111111111111111, \"#46039f\"], [0.2222222222222222, \"#7201a8\"], [0.3333333333333333, \"#9c179e\"], [0.4444444444444444, \"#bd3786\"], [0.5555555555555556, \"#d8576b\"], [0.6666666666666666, \"#ed7953\"], [0.7777777777777778, \"#fb9f3a\"], [0.8888888888888888, \"#fdca26\"], [1.0, \"#f0f921\"]], \"type\": \"histogram2d\"}], \"histogram2dcontour\": [{\"colorbar\": {\"outlinewidth\": 0, \"ticks\": \"\"}, \"colorscale\": [[0.0, \"#0d0887\"], [0.1111111111111111, \"#46039f\"], [0.2222222222222222, \"#7201a8\"], [0.3333333333333333, \"#9c179e\"], [0.4444444444444444, \"#bd3786\"], [0.5555555555555556, \"#d8576b\"], [0.6666666666666666, \"#ed7953\"], [0.7777777777777778, \"#fb9f3a\"], [0.8888888888888888, \"#fdca26\"], [1.0, \"#f0f921\"]], \"type\": \"histogram2dcontour\"}], \"mesh3d\": [{\"colorbar\": {\"outlinewidth\": 0, \"ticks\": \"\"}, \"type\": \"mesh3d\"}], \"parcoords\": [{\"line\": {\"colorbar\": {\"outlinewidth\": 0, \"ticks\": \"\"}}, \"type\": \"parcoords\"}], \"pie\": [{\"automargin\": true, \"type\": \"pie\"}], \"scatter\": [{\"marker\": {\"colorbar\": {\"outlinewidth\": 0, \"ticks\": \"\"}}, \"type\": \"scatter\"}], \"scatter3d\": [{\"line\": {\"colorbar\": {\"outlinewidth\": 0, \"ticks\": \"\"}}, \"marker\": {\"colorbar\": {\"outlinewidth\": 0, \"ticks\": \"\"}}, \"type\": \"scatter3d\"}], \"scattercarpet\": [{\"marker\": {\"colorbar\": {\"outlinewidth\": 0, \"ticks\": \"\"}}, \"type\": \"scattercarpet\"}], \"scattergeo\": [{\"marker\": {\"colorbar\": {\"outlinewidth\": 0, \"ticks\": \"\"}}, \"type\": \"scattergeo\"}], \"scattergl\": [{\"marker\": {\"colorbar\": {\"outlinewidth\": 0, \"ticks\": \"\"}}, \"type\": \"scattergl\"}], \"scattermapbox\": [{\"marker\": {\"colorbar\": {\"outlinewidth\": 0, \"ticks\": \"\"}}, \"type\": \"scattermapbox\"}], \"scatterpolar\": [{\"marker\": {\"colorbar\": {\"outlinewidth\": 0, \"ticks\": \"\"}}, \"type\": \"scatterpolar\"}], \"scatterpolargl\": [{\"marker\": {\"colorbar\": {\"outlinewidth\": 0, \"ticks\": \"\"}}, \"type\": \"scatterpolargl\"}], \"scatterternary\": [{\"marker\": {\"colorbar\": {\"outlinewidth\": 0, \"ticks\": \"\"}}, \"type\": \"scatterternary\"}], \"surface\": [{\"colorbar\": {\"outlinewidth\": 0, \"ticks\": \"\"}, \"colorscale\": [[0.0, \"#0d0887\"], [0.1111111111111111, \"#46039f\"], [0.2222222222222222, \"#7201a8\"], [0.3333333333333333, \"#9c179e\"], [0.4444444444444444, \"#bd3786\"], [0.5555555555555556, \"#d8576b\"], [0.6666666666666666, \"#ed7953\"], [0.7777777777777778, \"#fb9f3a\"], [0.8888888888888888, \"#fdca26\"], [1.0, \"#f0f921\"]], \"type\": \"surface\"}], \"table\": [{\"cells\": {\"fill\": {\"color\": \"#EBF0F8\"}, \"line\": {\"color\": \"white\"}}, \"header\": {\"fill\": {\"color\": \"#C8D4E3\"}, \"line\": {\"color\": \"white\"}}, \"type\": \"table\"}]}, \"layout\": {\"annotationdefaults\": {\"arrowcolor\": \"#2a3f5f\", \"arrowhead\": 0, \"arrowwidth\": 1}, \"coloraxis\": {\"colorbar\": {\"outlinewidth\": 0, \"ticks\": \"\"}}, \"colorscale\": {\"diverging\": [[0, \"#8e0152\"], [0.1, \"#c51b7d\"], [0.2, \"#de77ae\"], [0.3, \"#f1b6da\"], [0.4, \"#fde0ef\"], [0.5, \"#f7f7f7\"], [0.6, \"#e6f5d0\"], [0.7, \"#b8e186\"], [0.8, \"#7fbc41\"], [0.9, \"#4d9221\"], [1, \"#276419\"]], \"sequential\": [[0.0, \"#0d0887\"], [0.1111111111111111, \"#46039f\"], [0.2222222222222222, \"#7201a8\"], [0.3333333333333333, \"#9c179e\"], [0.4444444444444444, \"#bd3786\"], [0.5555555555555556, \"#d8576b\"], [0.6666666666666666, \"#ed7953\"], [0.7777777777777778, \"#fb9f3a\"], [0.8888888888888888, \"#fdca26\"], [1.0, \"#f0f921\"]], \"sequentialminus\": [[0.0, \"#0d0887\"], [0.1111111111111111, \"#46039f\"], [0.2222222222222222, \"#7201a8\"], [0.3333333333333333, \"#9c179e\"], [0.4444444444444444, \"#bd3786\"], [0.5555555555555556, \"#d8576b\"], [0.6666666666666666, \"#ed7953\"], [0.7777777777777778, \"#fb9f3a\"], [0.8888888888888888, \"#fdca26\"], [1.0, \"#f0f921\"]]}, \"colorway\": [\"#636efa\", \"#EF553B\", \"#00cc96\", \"#ab63fa\", \"#FFA15A\", \"#19d3f3\", \"#FF6692\", \"#B6E880\", \"#FF97FF\", \"#FECB52\"], \"font\": {\"color\": \"#2a3f5f\"}, \"geo\": {\"bgcolor\": \"white\", \"lakecolor\": \"white\", \"landcolor\": \"#E5ECF6\", \"showlakes\": true, \"showland\": true, \"subunitcolor\": \"white\"}, \"hoverlabel\": {\"align\": \"left\"}, \"hovermode\": \"closest\", \"mapbox\": {\"style\": \"light\"}, \"paper_bgcolor\": \"white\", \"plot_bgcolor\": \"#E5ECF6\", \"polar\": {\"angularaxis\": {\"gridcolor\": \"white\", \"linecolor\": \"white\", \"ticks\": \"\"}, \"bgcolor\": \"#E5ECF6\", \"radialaxis\": {\"gridcolor\": \"white\", \"linecolor\": \"white\", \"ticks\": \"\"}}, \"scene\": {\"xaxis\": {\"backgroundcolor\": \"#E5ECF6\", \"gridcolor\": \"white\", \"gridwidth\": 2, \"linecolor\": \"white\", \"showbackground\": true, \"ticks\": \"\", \"zerolinecolor\": \"white\"}, \"yaxis\": {\"backgroundcolor\": \"#E5ECF6\", \"gridcolor\": \"white\", \"gridwidth\": 2, \"linecolor\": \"white\", \"showbackground\": true, \"ticks\": \"\", \"zerolinecolor\": \"white\"}, \"zaxis\": {\"backgroundcolor\": \"#E5ECF6\", \"gridcolor\": \"white\", \"gridwidth\": 2, \"linecolor\": \"white\", \"showbackground\": true, \"ticks\": \"\", \"zerolinecolor\": \"white\"}}, \"shapedefaults\": {\"line\": {\"color\": \"#2a3f5f\"}}, \"ternary\": {\"aaxis\": {\"gridcolor\": \"white\", \"linecolor\": \"white\", \"ticks\": \"\"}, \"baxis\": {\"gridcolor\": \"white\", \"linecolor\": \"white\", \"ticks\": \"\"}, \"bgcolor\": \"#E5ECF6\", \"caxis\": {\"gridcolor\": \"white\", \"linecolor\": \"white\", \"ticks\": \"\"}}, \"title\": {\"x\": 0.05}, \"xaxis\": {\"automargin\": true, \"gridcolor\": \"white\", \"linecolor\": \"white\", \"ticks\": \"\", \"title\": {\"standoff\": 15}, \"zerolinecolor\": \"white\", \"zerolinewidth\": 2}, \"yaxis\": {\"automargin\": true, \"gridcolor\": \"white\", \"linecolor\": \"white\", \"ticks\": \"\", \"title\": {\"standoff\": 15}, \"zerolinecolor\": \"white\", \"zerolinewidth\": 2}}}, \"xaxis\": {\"categoryorder\": \"category ascending\"}},\n",
              "                        {\"responsive\": true}\n",
              "                    ).then(function(){\n",
              "                            \n",
              "var gd = document.getElementById('67600419-793b-4a19-8681-f7a028f1f312');\n",
              "var x = new MutationObserver(function (mutations, observer) {{\n",
              "        var display = window.getComputedStyle(gd).display;\n",
              "        if (!display || display === 'none') {{\n",
              "            console.log([gd, 'removed!']);\n",
              "            Plotly.purge(gd);\n",
              "            observer.disconnect();\n",
              "        }}\n",
              "}});\n",
              "\n",
              "// Listen for the removal of the full notebook cells\n",
              "var notebookContainer = gd.closest('#notebook-container');\n",
              "if (notebookContainer) {{\n",
              "    x.observe(notebookContainer, {childList: true});\n",
              "}}\n",
              "\n",
              "// Listen for the clearing of the current output cell\n",
              "var outputEl = gd.closest('.output');\n",
              "if (outputEl) {{\n",
              "    x.observe(outputEl, {childList: true});\n",
              "}}\n",
              "\n",
              "                        })\n",
              "                };\n",
              "                \n",
              "            </script>\n",
              "        </div>\n",
              "</body>\n",
              "</html>"
            ]
          },
          "metadata": {
            "tags": []
          }
        }
      ]
    },
    {
      "cell_type": "code",
      "metadata": {
        "id": "ewux0HGEQLcf",
        "colab_type": "code",
        "colab": {
          "base_uri": "https://localhost:8080/",
          "height": 1000
        },
        "outputId": "b1cb4111-7d0e-4f0d-8768-4b7997f19994"
      },
      "source": [
        "tests_df_filter_countries = tests_df[(tests_df['country'] == 'Argentina') | (tests_df['country'] == 'Brasil' ) | (tests_df['country'] == 'Chile') | (tests_df['country'] == 'Uruguay') ]\n",
        "x = tests_df_filter_countries['country']\n",
        "fig = go.Figure(go.Bar(x=x, y=tests_df_filter_countries['positive'], name='positives'))\n",
        "\n",
        "fig.add_trace(go.Bar(x=x, y=tests_df_filter_countries['positiveperthousand'], name='positives / 1000'))\n",
        "fig.add_trace(go.Bar(x=x, y=tests_df_filter_countries['tests'], name='total tests'))\n",
        "\n",
        "fig.update_layout(barmode='stack', xaxis={'categoryorder':'category ascending'}, height=1000)"
      ],
      "execution_count": 33,
      "outputs": [
        {
          "output_type": "display_data",
          "data": {
            "text/html": [
              "<html>\n",
              "<head><meta charset=\"utf-8\" /></head>\n",
              "<body>\n",
              "    <div>\n",
              "            <script src=\"https://cdnjs.cloudflare.com/ajax/libs/mathjax/2.7.5/MathJax.js?config=TeX-AMS-MML_SVG\"></script><script type=\"text/javascript\">if (window.MathJax) {MathJax.Hub.Config({SVG: {font: \"STIX-Web\"}});}</script>\n",
              "                <script type=\"text/javascript\">window.PlotlyConfig = {MathJaxConfig: 'local'};</script>\n",
              "        <script src=\"https://cdn.plot.ly/plotly-latest.min.js\"></script>    \n",
              "            <div id=\"f70cb830-30a1-4e9d-86aa-04070dcfc832\" class=\"plotly-graph-div\" style=\"height:1000px; width:100%;\"></div>\n",
              "            <script type=\"text/javascript\">\n",
              "                \n",
              "                    window.PLOTLYENV=window.PLOTLYENV || {};\n",
              "                    \n",
              "                if (document.getElementById(\"f70cb830-30a1-4e9d-86aa-04070dcfc832\")) {\n",
              "                    Plotly.newPlot(\n",
              "                        'f70cb830-30a1-4e9d-86aa-04070dcfc832',\n",
              "                        [{\"name\": \"positives\", \"type\": \"bar\", \"x\": [\"Argentina\", \"Chile\", \"Uruguay\"], \"y\": [\"1,265\", \"2,738\", \"189\"]}, {\"name\": \"positives / 1000\", \"type\": \"bar\", \"x\": [\"Argentina\", \"Chile\", \"Uruguay\"], \"y\": [\"171\", \"78\", \"123\"]}, {\"name\": \"total tests\", \"type\": \"bar\", \"x\": [\"Argentina\", \"Chile\", \"Uruguay\"], \"y\": [\"7,385\", \"35,142\", \"1,538\"]}],\n",
              "                        {\"barmode\": \"stack\", \"height\": 1000, \"template\": {\"data\": {\"bar\": [{\"error_x\": {\"color\": \"#2a3f5f\"}, \"error_y\": {\"color\": \"#2a3f5f\"}, \"marker\": {\"line\": {\"color\": \"#E5ECF6\", \"width\": 0.5}}, \"type\": \"bar\"}], \"barpolar\": [{\"marker\": {\"line\": {\"color\": \"#E5ECF6\", \"width\": 0.5}}, \"type\": \"barpolar\"}], \"carpet\": [{\"aaxis\": {\"endlinecolor\": \"#2a3f5f\", \"gridcolor\": \"white\", \"linecolor\": \"white\", \"minorgridcolor\": \"white\", \"startlinecolor\": \"#2a3f5f\"}, \"baxis\": {\"endlinecolor\": \"#2a3f5f\", \"gridcolor\": \"white\", \"linecolor\": \"white\", \"minorgridcolor\": \"white\", \"startlinecolor\": \"#2a3f5f\"}, \"type\": \"carpet\"}], \"choropleth\": [{\"colorbar\": {\"outlinewidth\": 0, \"ticks\": \"\"}, \"type\": \"choropleth\"}], \"contour\": [{\"colorbar\": {\"outlinewidth\": 0, \"ticks\": \"\"}, \"colorscale\": [[0.0, \"#0d0887\"], [0.1111111111111111, \"#46039f\"], [0.2222222222222222, \"#7201a8\"], [0.3333333333333333, \"#9c179e\"], [0.4444444444444444, \"#bd3786\"], [0.5555555555555556, \"#d8576b\"], [0.6666666666666666, \"#ed7953\"], [0.7777777777777778, \"#fb9f3a\"], [0.8888888888888888, \"#fdca26\"], [1.0, \"#f0f921\"]], \"type\": \"contour\"}], \"contourcarpet\": [{\"colorbar\": {\"outlinewidth\": 0, \"ticks\": \"\"}, \"type\": \"contourcarpet\"}], \"heatmap\": [{\"colorbar\": {\"outlinewidth\": 0, \"ticks\": \"\"}, \"colorscale\": [[0.0, \"#0d0887\"], [0.1111111111111111, \"#46039f\"], [0.2222222222222222, \"#7201a8\"], [0.3333333333333333, \"#9c179e\"], [0.4444444444444444, \"#bd3786\"], [0.5555555555555556, \"#d8576b\"], [0.6666666666666666, \"#ed7953\"], [0.7777777777777778, \"#fb9f3a\"], [0.8888888888888888, \"#fdca26\"], [1.0, \"#f0f921\"]], \"type\": \"heatmap\"}], \"heatmapgl\": [{\"colorbar\": {\"outlinewidth\": 0, \"ticks\": \"\"}, \"colorscale\": [[0.0, \"#0d0887\"], [0.1111111111111111, \"#46039f\"], [0.2222222222222222, \"#7201a8\"], [0.3333333333333333, \"#9c179e\"], [0.4444444444444444, \"#bd3786\"], [0.5555555555555556, \"#d8576b\"], [0.6666666666666666, \"#ed7953\"], [0.7777777777777778, \"#fb9f3a\"], [0.8888888888888888, \"#fdca26\"], [1.0, \"#f0f921\"]], \"type\": \"heatmapgl\"}], \"histogram\": [{\"marker\": {\"colorbar\": {\"outlinewidth\": 0, \"ticks\": \"\"}}, \"type\": \"histogram\"}], \"histogram2d\": [{\"colorbar\": {\"outlinewidth\": 0, \"ticks\": \"\"}, \"colorscale\": [[0.0, \"#0d0887\"], [0.1111111111111111, \"#46039f\"], [0.2222222222222222, \"#7201a8\"], [0.3333333333333333, \"#9c179e\"], [0.4444444444444444, \"#bd3786\"], [0.5555555555555556, \"#d8576b\"], [0.6666666666666666, \"#ed7953\"], [0.7777777777777778, \"#fb9f3a\"], [0.8888888888888888, \"#fdca26\"], [1.0, \"#f0f921\"]], \"type\": \"histogram2d\"}], \"histogram2dcontour\": [{\"colorbar\": {\"outlinewidth\": 0, \"ticks\": \"\"}, \"colorscale\": [[0.0, \"#0d0887\"], [0.1111111111111111, \"#46039f\"], [0.2222222222222222, \"#7201a8\"], [0.3333333333333333, \"#9c179e\"], [0.4444444444444444, \"#bd3786\"], [0.5555555555555556, \"#d8576b\"], [0.6666666666666666, \"#ed7953\"], [0.7777777777777778, \"#fb9f3a\"], [0.8888888888888888, \"#fdca26\"], [1.0, \"#f0f921\"]], \"type\": \"histogram2dcontour\"}], \"mesh3d\": [{\"colorbar\": {\"outlinewidth\": 0, \"ticks\": \"\"}, \"type\": \"mesh3d\"}], \"parcoords\": [{\"line\": {\"colorbar\": {\"outlinewidth\": 0, \"ticks\": \"\"}}, \"type\": \"parcoords\"}], \"pie\": [{\"automargin\": true, \"type\": \"pie\"}], \"scatter\": [{\"marker\": {\"colorbar\": {\"outlinewidth\": 0, \"ticks\": \"\"}}, \"type\": \"scatter\"}], \"scatter3d\": [{\"line\": {\"colorbar\": {\"outlinewidth\": 0, \"ticks\": \"\"}}, \"marker\": {\"colorbar\": {\"outlinewidth\": 0, \"ticks\": \"\"}}, \"type\": \"scatter3d\"}], \"scattercarpet\": [{\"marker\": {\"colorbar\": {\"outlinewidth\": 0, \"ticks\": \"\"}}, \"type\": \"scattercarpet\"}], \"scattergeo\": [{\"marker\": {\"colorbar\": {\"outlinewidth\": 0, \"ticks\": \"\"}}, \"type\": \"scattergeo\"}], \"scattergl\": [{\"marker\": {\"colorbar\": {\"outlinewidth\": 0, \"ticks\": \"\"}}, \"type\": \"scattergl\"}], \"scattermapbox\": [{\"marker\": {\"colorbar\": {\"outlinewidth\": 0, \"ticks\": \"\"}}, \"type\": \"scattermapbox\"}], \"scatterpolar\": [{\"marker\": {\"colorbar\": {\"outlinewidth\": 0, \"ticks\": \"\"}}, \"type\": \"scatterpolar\"}], \"scatterpolargl\": [{\"marker\": {\"colorbar\": {\"outlinewidth\": 0, \"ticks\": \"\"}}, \"type\": \"scatterpolargl\"}], \"scatterternary\": [{\"marker\": {\"colorbar\": {\"outlinewidth\": 0, \"ticks\": \"\"}}, \"type\": \"scatterternary\"}], \"surface\": [{\"colorbar\": {\"outlinewidth\": 0, \"ticks\": \"\"}, \"colorscale\": [[0.0, \"#0d0887\"], [0.1111111111111111, \"#46039f\"], [0.2222222222222222, \"#7201a8\"], [0.3333333333333333, \"#9c179e\"], [0.4444444444444444, \"#bd3786\"], [0.5555555555555556, \"#d8576b\"], [0.6666666666666666, \"#ed7953\"], [0.7777777777777778, \"#fb9f3a\"], [0.8888888888888888, \"#fdca26\"], [1.0, \"#f0f921\"]], \"type\": \"surface\"}], \"table\": [{\"cells\": {\"fill\": {\"color\": \"#EBF0F8\"}, \"line\": {\"color\": \"white\"}}, \"header\": {\"fill\": {\"color\": \"#C8D4E3\"}, \"line\": {\"color\": \"white\"}}, \"type\": \"table\"}]}, \"layout\": {\"annotationdefaults\": {\"arrowcolor\": \"#2a3f5f\", \"arrowhead\": 0, \"arrowwidth\": 1}, \"coloraxis\": {\"colorbar\": {\"outlinewidth\": 0, \"ticks\": \"\"}}, \"colorscale\": {\"diverging\": [[0, \"#8e0152\"], [0.1, \"#c51b7d\"], [0.2, \"#de77ae\"], [0.3, \"#f1b6da\"], [0.4, \"#fde0ef\"], [0.5, \"#f7f7f7\"], [0.6, \"#e6f5d0\"], [0.7, \"#b8e186\"], [0.8, \"#7fbc41\"], [0.9, \"#4d9221\"], [1, \"#276419\"]], \"sequential\": [[0.0, \"#0d0887\"], [0.1111111111111111, \"#46039f\"], [0.2222222222222222, \"#7201a8\"], [0.3333333333333333, \"#9c179e\"], [0.4444444444444444, \"#bd3786\"], [0.5555555555555556, \"#d8576b\"], [0.6666666666666666, \"#ed7953\"], [0.7777777777777778, \"#fb9f3a\"], [0.8888888888888888, \"#fdca26\"], [1.0, \"#f0f921\"]], \"sequentialminus\": [[0.0, \"#0d0887\"], [0.1111111111111111, \"#46039f\"], [0.2222222222222222, \"#7201a8\"], [0.3333333333333333, \"#9c179e\"], [0.4444444444444444, \"#bd3786\"], [0.5555555555555556, \"#d8576b\"], [0.6666666666666666, \"#ed7953\"], [0.7777777777777778, \"#fb9f3a\"], [0.8888888888888888, \"#fdca26\"], [1.0, \"#f0f921\"]]}, \"colorway\": [\"#636efa\", \"#EF553B\", \"#00cc96\", \"#ab63fa\", \"#FFA15A\", \"#19d3f3\", \"#FF6692\", \"#B6E880\", \"#FF97FF\", \"#FECB52\"], \"font\": {\"color\": \"#2a3f5f\"}, \"geo\": {\"bgcolor\": \"white\", \"lakecolor\": \"white\", \"landcolor\": \"#E5ECF6\", \"showlakes\": true, \"showland\": true, \"subunitcolor\": \"white\"}, \"hoverlabel\": {\"align\": \"left\"}, \"hovermode\": \"closest\", \"mapbox\": {\"style\": \"light\"}, \"paper_bgcolor\": \"white\", \"plot_bgcolor\": \"#E5ECF6\", \"polar\": {\"angularaxis\": {\"gridcolor\": \"white\", \"linecolor\": \"white\", \"ticks\": \"\"}, \"bgcolor\": \"#E5ECF6\", \"radialaxis\": {\"gridcolor\": \"white\", \"linecolor\": \"white\", \"ticks\": \"\"}}, \"scene\": {\"xaxis\": {\"backgroundcolor\": \"#E5ECF6\", \"gridcolor\": \"white\", \"gridwidth\": 2, \"linecolor\": \"white\", \"showbackground\": true, \"ticks\": \"\", \"zerolinecolor\": \"white\"}, \"yaxis\": {\"backgroundcolor\": \"#E5ECF6\", \"gridcolor\": \"white\", \"gridwidth\": 2, \"linecolor\": \"white\", \"showbackground\": true, \"ticks\": \"\", \"zerolinecolor\": \"white\"}, \"zaxis\": {\"backgroundcolor\": \"#E5ECF6\", \"gridcolor\": \"white\", \"gridwidth\": 2, \"linecolor\": \"white\", \"showbackground\": true, \"ticks\": \"\", \"zerolinecolor\": \"white\"}}, \"shapedefaults\": {\"line\": {\"color\": \"#2a3f5f\"}}, \"ternary\": {\"aaxis\": {\"gridcolor\": \"white\", \"linecolor\": \"white\", \"ticks\": \"\"}, \"baxis\": {\"gridcolor\": \"white\", \"linecolor\": \"white\", \"ticks\": \"\"}, \"bgcolor\": \"#E5ECF6\", \"caxis\": {\"gridcolor\": \"white\", \"linecolor\": \"white\", \"ticks\": \"\"}}, \"title\": {\"x\": 0.05}, \"xaxis\": {\"automargin\": true, \"gridcolor\": \"white\", \"linecolor\": \"white\", \"ticks\": \"\", \"title\": {\"standoff\": 15}, \"zerolinecolor\": \"white\", \"zerolinewidth\": 2}, \"yaxis\": {\"automargin\": true, \"gridcolor\": \"white\", \"linecolor\": \"white\", \"ticks\": \"\", \"title\": {\"standoff\": 15}, \"zerolinecolor\": \"white\", \"zerolinewidth\": 2}}}, \"xaxis\": {\"categoryorder\": \"category ascending\"}},\n",
              "                        {\"responsive\": true}\n",
              "                    ).then(function(){\n",
              "                            \n",
              "var gd = document.getElementById('f70cb830-30a1-4e9d-86aa-04070dcfc832');\n",
              "var x = new MutationObserver(function (mutations, observer) {{\n",
              "        var display = window.getComputedStyle(gd).display;\n",
              "        if (!display || display === 'none') {{\n",
              "            console.log([gd, 'removed!']);\n",
              "            Plotly.purge(gd);\n",
              "            observer.disconnect();\n",
              "        }}\n",
              "}});\n",
              "\n",
              "// Listen for the removal of the full notebook cells\n",
              "var notebookContainer = gd.closest('#notebook-container');\n",
              "if (notebookContainer) {{\n",
              "    x.observe(notebookContainer, {childList: true});\n",
              "}}\n",
              "\n",
              "// Listen for the clearing of the current output cell\n",
              "var outputEl = gd.closest('.output');\n",
              "if (outputEl) {{\n",
              "    x.observe(outputEl, {childList: true});\n",
              "}}\n",
              "\n",
              "                        })\n",
              "                };\n",
              "                \n",
              "            </script>\n",
              "        </div>\n",
              "</body>\n",
              "</html>"
            ]
          },
          "metadata": {
            "tags": []
          }
        }
      ]
    }
  ]
}